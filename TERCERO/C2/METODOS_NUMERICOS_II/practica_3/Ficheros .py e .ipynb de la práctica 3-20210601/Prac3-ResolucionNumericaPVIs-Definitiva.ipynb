{
 "cells": [
  {
   "cell_type": "markdown",
   "metadata": {},
   "source": [
    "# Práctica 3: Resolución Numérica  de PVIs  usando Python"
   ]
  },
  {
   "cell_type": "markdown",
   "metadata": {},
   "source": [
    "Autor: Pedro González Rodelas\n",
    "\n",
    "Fecha de la primera versión: 01/05/2020\n",
    "\n",
    "Sucesivas revisiones: 02-08/05/2020\n",
    "\n",
    "Fecha de la última revisión: 11/05/2020"
   ]
  },
  {
   "cell_type": "markdown",
   "metadata": {},
   "source": [
    "En esta práctica se programan en lenguaje Python diferentes métodos numéricos de resolución aproximada de Problemas de Valores Iniciales asociados a Ecuaciones Diferenciales Ordinarias (EDOs) y sistemas de primer orden, provenientes muchos de ellos de problemas y aplicaciones interesantes de Física e Ingeniería.\n",
    "\n",
    "Algunos de los ejemplos y algoritmos usados en este notebook han sido extraidos, adaptados o traducidos por Pedro González Rodelas de alguno de los siguientes libros y/o apuntes:\n",
    "\n",
    "\n",
    "- \"Análisis Numérico con Mathematica\" de V. Ramírez, D. Barrera, M. Pasadas y P. González. Edit. Ariel Ciencia (2001) con ISBN: 84-344-8036-0. Dep. Legal: B.31.425-2001.\n",
    "\n",
    "- Apuntes de la asignatura de Métodos Numéricos II del Grado de Matemáticas y Dobles Grados de Matemáticas e Informática o Física de la UGR, de los profesores José Martínez Aroza y Victoriano Ramírez González.\n",
    "\n",
    "- Notebook perteneciente al Capítulo 9 del libro [Numerical Python - A Practical Techniques Approach for Industry](http://www.apress.com/9781484205549) (ISBN 978-1-484205-54-9) de Robert Johansson.\n",
    "\n",
    "- Capítulo 7 del libro [Numerical Methods in Engineering with Python 3](https://www.cambridge.org/core/books/numerical-methods-in-engineering-with-python-3/95151C37C2F427F30DC90FA619FE79F9) de Jaan Kiusalaas."
   ]
  },
  {
   "cell_type": "code",
   "execution_count": 1,
   "metadata": {},
   "outputs": [
    {
     "data": {
      "application/json": {
       "Software versions": [
        {
         "module": "Python",
         "version": "3.8.8 64bit [GCC 7.3.0]"
        },
        {
         "module": "IPython",
         "version": "7.22.0"
        },
        {
         "module": "OS",
         "version": "Linux 5.8.0 55 generic x86_64 with glibc2.10"
        },
        {
         "module": "numpy",
         "version": "1.20.2"
        },
        {
         "module": "matplotlib",
         "version": "3.3.4"
        },
        {
         "module": "sympy",
         "version": "1.8"
        },
        {
         "module": "scipy",
         "version": "1.6.2"
        }
       ]
      },
      "text/html": [
       "<table><tr><th>Software</th><th>Version</th></tr><tr><td>Python</td><td>3.8.8 64bit [GCC 7.3.0]</td></tr><tr><td>IPython</td><td>7.22.0</td></tr><tr><td>OS</td><td>Linux 5.8.0 55 generic x86_64 with glibc2.10</td></tr><tr><td>numpy</td><td>1.20.2</td></tr><tr><td>matplotlib</td><td>3.3.4</td></tr><tr><td>sympy</td><td>1.8</td></tr><tr><td>scipy</td><td>1.6.2</td></tr><tr><td colspan='2'>Sat Jun 12 12:05:33 2021 CEST</td></tr></table>"
      ],
      "text/latex": [
       "\\begin{tabular}{|l|l|}\\hline\n",
       "{\\bf Software} & {\\bf Version} \\\\ \\hline\\hline\n",
       "Python & 3.8.8 64bit [GCC 7.3.0] \\\\ \\hline\n",
       "IPython & 7.22.0 \\\\ \\hline\n",
       "OS & Linux 5.8.0 55 generic x86\\_64 with glibc2.10 \\\\ \\hline\n",
       "numpy & 1.20.2 \\\\ \\hline\n",
       "matplotlib & 3.3.4 \\\\ \\hline\n",
       "sympy & 1.8 \\\\ \\hline\n",
       "scipy & 1.6.2 \\\\ \\hline\n",
       "\\hline \\multicolumn{2}{|l|}{Sat Jun 12 12:05:33 2021 CEST} \\\\ \\hline\n",
       "\\end{tabular}\n"
      ],
      "text/plain": [
       "Software versions\n",
       "Python 3.8.8 64bit [GCC 7.3.0]\n",
       "IPython 7.22.0\n",
       "OS Linux 5.8.0 55 generic x86_64 with glibc2.10\n",
       "numpy 1.20.2\n",
       "matplotlib 3.3.4\n",
       "sympy 1.8\n",
       "scipy 1.6.2\n",
       "Sat Jun 12 12:05:33 2021 CEST"
      ]
     },
     "execution_count": 1,
     "metadata": {},
     "output_type": "execute_result"
    }
   ],
   "source": [
    "# Cargando el fichero version_information.py\n",
    "# alojado el directorio de trabajo actual\n",
    "# podremos comprobar las versiones concretas\n",
    "# tanto del intérprete de Python, como de los\n",
    "# módulos que tenemos instalados en nuestro ordenador.\n",
    "\n",
    "%reload_ext version_information\n",
    "\n",
    "%version_information numpy, matplotlib, sympy, scipy"
   ]
  },
  {
   "cell_type": "markdown",
   "metadata": {},
   "source": [
    "## Resolviendo EDOs simbolicamente con SymPy"
   ]
  },
  {
   "cell_type": "markdown",
   "metadata": {},
   "source": [
    "Como es bien sabido, una ecuación diferencial ordinaria (EDO), no es más que una relación existente entre algunas derivadas de función incógnita $y(t)$, suponiendo que resulta ser suficientemente derivable, a partir de la función $f\\equiv f(t,z)$ que determina la EDO que satisface. \n",
    "\n",
    "En el caso de una EDO de primer orden esta relación se podría escribir de la siguiente manera genérica: $$y'(t)=f(t,y(t)),\\; t\\in[a,b]$$\n",
    "con $f:[a,b]\\times\\mathbb{R}\\to \\mathbb{R}$ también suficientemente regular, o al menos continua en $(t,z)$ y Lipschitziana en $z$, para asegurar existencia y unicidad de solución del correspondiente Problema de Valores Iniciales (PVI), para cierta condición inicial $y(a) = y_a\\equiv\\mu\\in\\mathbb{R}$ determinada de antemano:\n",
    "\n",
    "$$\\begin{array}{c l} y'(t)=f(t,y(t)),& t\\in[a,b]\\\\ y(a) = y_a\\equiv\\mu  &  \\end{array}$$\n",
    "\n",
    "aunque también suele ser habitual el empleo de la siguiente notación\n",
    "\n",
    "$$\\begin{array}{c l} x'(t)=f(t,x(t)),& t\\in[a,b]\\\\ x(a) = x_0\\equiv\\mu  &  \\end{array}$$\n",
    "\n",
    "o usar $x$ como variable independiente e $y$ como variable dependiente, etc. \n",
    "\n",
    "Así pues, con el objeto de normalizar la notación y que valga para cualquier caso, hemos optado por usar una notación genérica que valga para cualquier EDO, independientemente de la notación empleada para la misma."
   ]
  },
  {
   "cell_type": "code",
   "execution_count": 2,
   "metadata": {},
   "outputs": [],
   "source": [
    "import sympy as sp\n",
    "# sp.init_printing()"
   ]
  },
  {
   "cell_type": "code",
   "execution_count": 3,
   "metadata": {},
   "outputs": [],
   "source": [
    "t, y0, z = sp.symbols('t, y_0,  z')\n",
    "def f(t,z):\n",
    "    return z"
   ]
  },
  {
   "cell_type": "code",
   "execution_count": 4,
   "metadata": {},
   "outputs": [],
   "source": [
    "a = 0; b = 1;   # extremos inferior y superior del intervalo \n",
    "ya = 1          # condición inicial del PVI"
   ]
  },
  {
   "cell_type": "code",
   "execution_count": 5,
   "metadata": {},
   "outputs": [
    {
     "data": {
      "text/latex": [
       "$\\displaystyle - y{\\left(t \\right)} + \\frac{d}{d t} y{\\left(t \\right)} = 0$"
      ],
      "text/plain": [
       "Eq(-y(t) + Derivative(y(t), t), 0)"
      ]
     },
     "execution_count": 5,
     "metadata": {},
     "output_type": "execute_result"
    }
   ],
   "source": [
    "# Vamos a empezar definiendo la Ec. Dif. Ordinaria (edo) a resolver\n",
    "y = sp.Function('y')\n",
    "edo = y(t).diff(t)-f(t,y(t))\n",
    "sp.Eq(edo,0)"
   ]
  },
  {
   "cell_type": "code",
   "execution_count": 6,
   "metadata": {},
   "outputs": [
    {
     "data": {
      "text/latex": [
       "$\\displaystyle y{\\left(t \\right)} = C_{1} e^{t}$"
      ],
      "text/plain": [
       "Eq(y(t), C1*exp(t))"
      ]
     },
     "execution_count": 6,
     "metadata": {},
     "output_type": "execute_result"
    }
   ],
   "source": [
    "# y la resolvemos simbólicamente mediante la orden dsolve de SymPy\n",
    "edo_sol = sp.dsolve(edo)\n",
    "edo_sol"
   ]
  },
  {
   "cell_type": "code",
   "execution_count": 7,
   "metadata": {},
   "outputs": [
    {
     "data": {
      "text/latex": [
       "$\\displaystyle y{\\left(t \\right)}$"
      ],
      "text/plain": [
       "y(t)"
      ]
     },
     "execution_count": 7,
     "metadata": {},
     "output_type": "execute_result"
    }
   ],
   "source": [
    "# De esta solución simbólica obtenida también podremos extraer, tanto\n",
    "edo_sol.lhs  #  el término de la izquierda (mediante .lhs)"
   ]
  },
  {
   "cell_type": "code",
   "execution_count": 8,
   "metadata": {},
   "outputs": [
    {
     "data": {
      "text/latex": [
       "$\\displaystyle C_{1} e^{t}$"
      ],
      "text/plain": [
       "C1*exp(t)"
      ]
     },
     "execution_count": 8,
     "metadata": {},
     "output_type": "execute_result"
    }
   ],
   "source": [
    "edo_sol.rhs  #  como el término de la derecha (mediante .rhs)"
   ]
  },
  {
   "cell_type": "code",
   "execution_count": 9,
   "metadata": {},
   "outputs": [
    {
     "data": {
      "text/plain": [
       "{y(0): y_0}"
      ]
     },
     "execution_count": 9,
     "metadata": {},
     "output_type": "execute_result"
    }
   ],
   "source": [
    "# Veámos ahora cómo imponer las condiciones iniciales a través\n",
    "ics = {y(0): y0}  #  de una entrada de diccionario\n",
    "ics"
   ]
  },
  {
   "cell_type": "code",
   "execution_count": 10,
   "metadata": {},
   "outputs": [
    {
     "data": {
      "text/plain": [
       "(C1, y_0)"
      ]
     },
     "execution_count": 10,
     "metadata": {},
     "output_type": "execute_result"
    }
   ],
   "source": [
    "# De esta manera haríamos la sustituciones correspondientes\n",
    "edo_sol.rhs.subs(t, 0),edo_sol.lhs.subs(t, 0).subs(ics)"
   ]
  },
  {
   "cell_type": "code",
   "execution_count": 11,
   "metadata": {},
   "outputs": [
    {
     "data": {
      "text/latex": [
       "$\\displaystyle y_{0} = C_{1}$"
      ],
      "text/plain": [
       "Eq(y_0, C1)"
      ]
     },
     "execution_count": 11,
     "metadata": {},
     "output_type": "execute_result"
    }
   ],
   "source": [
    "CI_eq = sp.Eq(edo_sol.lhs.subs(t, 0).subs(ics),edo_sol.rhs.subs(t, 0))\n",
    "CI_eq   # esta sería finalmente la ecuación asociada \n",
    "# a la imposición de la condición inicial del PVI"
   ]
  },
  {
   "cell_type": "code",
   "execution_count": 12,
   "metadata": {},
   "outputs": [
    {
     "data": {
      "text/plain": [
       "{C1: y_0}"
      ]
     },
     "execution_count": 12,
     "metadata": {},
     "output_type": "execute_result"
    }
   ],
   "source": [
    "CI_sol = sp.solve(CI_eq) # que resolvemos mediante la orden solve\n",
    "CI_sol[0]                # y extraemos la única solución de ésta"
   ]
  },
  {
   "cell_type": "code",
   "execution_count": 13,
   "metadata": {},
   "outputs": [
    {
     "data": {
      "text/latex": [
       "$\\displaystyle y{\\left(t \\right)} = C_{1} e^{t}$"
      ],
      "text/plain": [
       "Eq(y(t), C1*exp(t))"
      ]
     },
     "execution_count": 13,
     "metadata": {},
     "output_type": "execute_result"
    }
   ],
   "source": [
    "edo_sol   # Usaremos finalmente la solución analítica general"
   ]
  },
  {
   "cell_type": "code",
   "execution_count": 14,
   "metadata": {},
   "outputs": [
    {
     "data": {
      "text/latex": [
       "$\\displaystyle y{\\left(t \\right)} = y_{0} e^{t}$"
      ],
      "text/plain": [
       "Eq(y(t), y_0*exp(t))"
      ]
     },
     "execution_count": 14,
     "metadata": {},
     "output_type": "execute_result"
    }
   ],
   "source": [
    "# así como la obtención de las constantes de integración\n",
    "edo_sol.subs(CI_sol[0]) # en función de las condiciones iniciales"
   ]
  },
  {
   "cell_type": "code",
   "execution_count": 15,
   "metadata": {},
   "outputs": [
    {
     "data": {
      "text/latex": [
       "$\\displaystyle e^{t}$"
      ],
      "text/plain": [
       "exp(t)"
      ]
     },
     "execution_count": 15,
     "metadata": {},
     "output_type": "execute_result"
    }
   ],
   "source": [
    "# para obtener la única solución exacta de nuestro PVI \n",
    "sol_exacta = edo_sol.rhs.subs(CI_sol[0]).subs({y0:ya})\n",
    "sol_exacta"
   ]
  },
  {
   "cell_type": "markdown",
   "metadata": {},
   "source": [
    "### Función genérica para aplicar las condiciones  iniciales de un PVI"
   ]
  },
  {
   "cell_type": "markdown",
   "metadata": {},
   "source": [
    "Podríamos implementar ahora de una manera sistemática esta técnica de obtención simbólica de la solución analítica de un PVI, aprovechando al máximo la potencia y flexibilidad que nos aporta el lenguaje Python, así como su módulo de cálculo simbólico por excelencia SymPy."
   ]
  },
  {
   "cell_type": "code",
   "execution_count": 16,
   "metadata": {},
   "outputs": [],
   "source": [
    "def apply_ics(sol, ics, x, known_params):\n",
    "    \"\"\"\n",
    "    Applicamos las condiciones iniciales (CIs), dadas como un diccionario\n",
    "    de la forma ics = {y(0): y0: y(x).diff(x).subs(x, 0): yp0, ...}\n",
    "    a la solución de la EDO con en la variable independiente x.\n",
    "    Las constantes de integración indeterminadas C1, C2, ... serán extraidas\n",
    "    a partir de los símbolos libres de la solución de la EDO, excluyendo \n",
    "    aquellos de la lista de parametros conocidos 'known_params'.\n",
    "    \"\"\"\n",
    "    free_params = sol.free_symbols - set(known_params)\n",
    "    eqs = [(sol.lhs.diff(x, n) - sol.rhs.diff(x, n)).subs(x, 0).subs(ics)\n",
    "           for n in range(len(ics))]\n",
    "    sol_params = sympy.solve(eqs, free_params)\n",
    "    return sol.subs(sol_params)"
   ]
  },
  {
   "cell_type": "markdown",
   "metadata": {},
   "source": [
    "## Importación del módulo NumPy"
   ]
  },
  {
   "cell_type": "markdown",
   "metadata": {},
   "source": [
    "La importación de este módulo será completamente imprescindible en casi todas las implementaciones desarrolladas a lo largo de esta práctica, al ser el módulo de Python fundamental para cualquier empleo eficiente de métodos numéricos en este lenguaje de programación; pero también resultará útil para la obtención de los arrays de abcisas y ordenadas de cualquier gráfico obtenido al estilo de MATLAB u Octave."
   ]
  },
  {
   "cell_type": "code",
   "execution_count": 17,
   "metadata": {},
   "outputs": [],
   "source": [
    "# Como es habitual realizaremos la importación con el pseudónimo np\n",
    "import numpy as np  "
   ]
  },
  {
   "cell_type": "markdown",
   "metadata": {},
   "source": [
    "## Representación gráfica de las soluciones"
   ]
  },
  {
   "cell_type": "code",
   "execution_count": 18,
   "metadata": {},
   "outputs": [],
   "source": [
    "# Configuramos e importamos el submódulo Pyplot de Matplotlib\n",
    "%matplotlib inline\n",
    "%config InlineBackend.figure_format='retina'\n",
    "import matplotlib.pyplot as plt\n",
    "import matplotlib as mpl\n",
    "mpl.rcParams['text.usetex'] = True"
   ]
  },
  {
   "cell_type": "code",
   "execution_count": 19,
   "metadata": {},
   "outputs": [
    {
     "data": {
      "text/latex": [
       "$\\displaystyle e^{t}$"
      ],
      "text/plain": [
       "exp(t)"
      ]
     },
     "execution_count": 19,
     "metadata": {},
     "output_type": "execute_result"
    }
   ],
   "source": [
    "sol_exacta # recordamos cuál era la solución exacta de nuestro PVI"
   ]
  },
  {
   "cell_type": "code",
   "execution_count": 20,
   "metadata": {},
   "outputs": [
    {
     "data": {
      "text/latex": [
       "$\\displaystyle 2.71828182845905$"
      ],
      "text/plain": [
       "2.71828182845905"
      ]
     },
     "execution_count": 20,
     "metadata": {},
     "output_type": "execute_result"
    }
   ],
   "source": [
    "# para poder evaluarla en el valor de la variable independiente \n",
    "sol_exacta.subs({t:1}).evalf()  # t que queramos"
   ]
  },
  {
   "cell_type": "code",
   "execution_count": 21,
   "metadata": {},
   "outputs": [
    {
     "name": "stdout",
     "output_type": "stream",
     "text": [
      "exp(t)\n"
     ]
    }
   ],
   "source": [
    "print(sol_exacta)  # esta es la expresión que podríamos pegar donde queramos"
   ]
  },
  {
   "cell_type": "code",
   "execution_count": 22,
   "metadata": {},
   "outputs": [
    {
     "data": {
      "text/plain": [
       "(0, 1)"
      ]
     },
     "execution_count": 22,
     "metadata": {},
     "output_type": "execute_result"
    }
   ],
   "source": [
    "a,b    # el intervalo de trabajo"
   ]
  },
  {
   "cell_type": "code",
   "execution_count": 23,
   "metadata": {},
   "outputs": [],
   "source": [
    "m = sol_exacta.subs({t:a})  # valores de referencia a la izqda.\n",
    "M = sol_exacta.subs({t:b})  # y derecha del intervalo"
   ]
  },
  {
   "cell_type": "code",
   "execution_count": 24,
   "metadata": {},
   "outputs": [],
   "source": [
    "# para representar gráficamente expresiones simbólicas\n",
    "sp.plot?"
   ]
  },
  {
   "cell_type": "code",
   "execution_count": 25,
   "metadata": {},
   "outputs": [
    {
     "data": {
      "image/png": "[encoded data removed]",
      "text/plain": [
       "<Figure size 432x288 with 1 Axes>"
      ]
     },
     "metadata": {
      "image/png": {
       "height": 287,
       "width": 424
      },
      "needs_background": "light"
     },
     "output_type": "display_data"
    }
   ],
   "source": [
    "graf_sympy = sp.plot(sol_exacta, xlim =(a,b), ylim = (0,M), show=True);"
   ]
  },
  {
   "cell_type": "code",
   "execution_count": 26,
   "metadata": {},
   "outputs": [
    {
     "data": {
      "image/png": "[encoded data removed]",
      "text/plain": [
       "<Figure size 432x288 with 1 Axes>"
      ]
     },
     "metadata": {
      "image/png": {
       "height": 287,
       "width": 424
      },
      "needs_background": "light"
     },
     "output_type": "display_data"
    }
   ],
   "source": [
    "# en caso de que queramos extender este gráfico simbólico con otro \n",
    "graf_sympy.append(sp.plot(t,(t,a,b),show=False)[0])\n",
    "graf_sympy.show()"
   ]
  },
  {
   "cell_type": "markdown",
   "metadata": {},
   "source": [
    "Aunque siempre tendremos la posibilidad de hacerlo de la manera tradicional habitual en MATLAB u Octave, pero esto requeriría reconvertir previamente esta solución analítica, dada simbólicamente, en una función numérica, evaluable de manera vectorial en arrays de valores, como por ejemplo las abcisas de la variable independiente en los que queramos obtener sus correspondientes ordenadas."
   ]
  },
  {
   "cell_type": "code",
   "execution_count": 27,
   "metadata": {},
   "outputs": [],
   "source": [
    "# Esta sería la herramienta adecuada para realizar dicha conversión\n",
    "y_x = sp.lambdify(t, sol_exacta, 'numpy')"
   ]
  },
  {
   "cell_type": "code",
   "execution_count": 28,
   "metadata": {},
   "outputs": [],
   "source": [
    "xx = np.linspace(a, b, 100) # así obtendríamos el array de abcisas"
   ]
  },
  {
   "cell_type": "code",
   "execution_count": 29,
   "metadata": {},
   "outputs": [
    {
     "data": {
      "text/plain": [
       "array([1.        , 1.0101522 , 1.02040746, 1.03076684, 1.04123139,\n",
       "       1.05180218, 1.06248028, 1.07326679, 1.0841628 , 1.09516944,\n",
       "       1.10628782, 1.11751907, 1.12886434, 1.1403248 , 1.1519016 ,\n",
       "       1.16359593, 1.17540899, 1.18734197, 1.1993961 , 1.21157261,\n",
       "       1.22387273, 1.23629773, 1.24884887, 1.26152743, 1.2743347 ,\n",
       "       1.287272  , 1.30034064, 1.31354196, 1.32687729, 1.34034801,\n",
       "       1.35395549, 1.36770112, 1.38158629, 1.39561243, 1.40978096,\n",
       "       1.42409333, 1.43855101, 1.45315546, 1.46790818, 1.48281068,\n",
       "       1.49786447, 1.51307108, 1.52843208, 1.54394902, 1.5596235 ,\n",
       "       1.5754571 , 1.59145146, 1.60760818, 1.62392894, 1.64041539,\n",
       "       1.65706921, 1.6738921 , 1.69088579, 1.70805199, 1.72539247,\n",
       "       1.742909  , 1.76060336, 1.77847735, 1.7965328 , 1.81477156,\n",
       "       1.83319548, 1.85180644, 1.87060634, 1.88959711, 1.90878067,\n",
       "       1.92815899, 1.94773404, 1.96750782, 1.98748235, 2.00765966,\n",
       "       2.02804182, 2.0486309 , 2.06942901, 2.09043826, 2.1116608 ,\n",
       "       2.1330988 , 2.15475444, 2.17662993, 2.19872751, 2.22104942,\n",
       "       2.24359796, 2.26637541, 2.2893841 , 2.31262638, 2.33610462,\n",
       "       2.35982121, 2.38377858, 2.40797917, 2.43242545, 2.45711992,\n",
       "       2.48206508, 2.5072635 , 2.53271773, 2.55843038, 2.58440408,\n",
       "       2.61064146, 2.6371452 , 2.66391802, 2.69096264, 2.71828183])"
      ]
     },
     "execution_count": 29,
     "metadata": {},
     "output_type": "execute_result"
    }
   ],
   "source": [
    "y_x(xx)   # y así el correspondiente array de ordenadas"
   ]
  },
  {
   "cell_type": "code",
   "execution_count": 30,
   "metadata": {},
   "outputs": [
    {
     "data": {
      "image/png": "[encoded data removed]",
      "text/plain": [
       "<Figure size 432x432 with 1 Axes>"
      ]
     },
     "metadata": {
      "image/png": {
       "height": 424,
       "width": 424
      },
      "needs_background": "light"
     },
     "output_type": "display_data"
    }
   ],
   "source": [
    "# y ya estaría todo preparado para poder realizar la correspondiente\n",
    "fig, ax = plt.subplots(figsize=(6, 6))  # figura de Matplotlib\n",
    "xx = np.linspace(a, b, 100)\n",
    "ax.plot(xx, y_x(xx), label=\"sol. exacta\")\n",
    "ax.set_title(r\"$%s$\" % sp.latex(edo_sol), fontsize=18)\n",
    "ax.set_xlabel(r\"$t$\", fontsize=18)\n",
    "ax.set_ylabel(r\"$y$\", fontsize=18)\n",
    "ax.legend()\n",
    "\n",
    "fig.tight_layout()"
   ]
  },
  {
   "cell_type": "code",
   "execution_count": 31,
   "metadata": {},
   "outputs": [],
   "source": [
    "graf_exacta = fig  # de esta manera podremos volver a generar esta figura\n",
    "# cuando lo necesitemos, por ejemplo para compararla con las aproximaciones"
   ]
  },
  {
   "cell_type": "markdown",
   "metadata": {},
   "source": [
    "## Módulo de impresión de resultados numéricos"
   ]
  },
  {
   "cell_type": "markdown",
   "metadata": {},
   "source": [
    "Como posteriormente vamos a necesitar imprimir y/o mostrar los resultados obtenidos mediante la aplicación de diferentes métodos numéricos, hemos optado por definir una herramienta común que grabaremos en un fichero .py, que usaremos a modo de módulo particular, que nos permitirá usarlo repetidamente de una manera sistemática, y no tener que volver a repetir esta porción de código cada vez que lo necesitemos a lo largo de la práctica."
   ]
  },
  {
   "cell_type": "code",
   "execution_count": 32,
   "metadata": {},
   "outputs": [
    {
     "data": {
      "text/plain": [
       "'/home/daniel/Desktop/DANIEL/METODOS_NUMERICOS_II/practica_3/Ficheros .py e .ipynb de la práctica 3-20210601'"
      ]
     },
     "execution_count": 32,
     "metadata": {},
     "output_type": "execute_result"
    }
   ],
   "source": [
    "%pwd  # para saber en qué directorio estamos trabajando"
   ]
  },
  {
   "cell_type": "markdown",
   "metadata": {},
   "source": [
    "Vemos que con estos denominados comandos ``mágicos`` (precedidos de `%`) podemos interactuar con el sistema operativo en el que estemos ejecutando este notebook, para conocer en qué directorio nos encontramos, listar, borrar o crear nuevos archivos, cambiar de directorio, etc., como veremos a continuación.  "
   ]
  },
  {
   "cell_type": "code",
   "execution_count": 33,
   "metadata": {},
   "outputs": [
    {
     "name": "stdout",
     "output_type": "stream",
     "text": [
      "Overwriting printSoln.py\n"
     ]
    }
   ],
   "source": [
    "%%file printSoln.py\n",
    "## module printSoln\n",
    "''' imprimeSol(X,Y,freq).\n",
    "    Imprime los arrays X e Y devueltos por los códigos\n",
    "    de resolución de una ecuación diferencial concreta\n",
    "    usando una frecuencia de salida especificada, 'freq'.\n",
    "        freq = n imprime cada n pasos.\n",
    "        freq = 0 imprime sólo los valores inicial y final.\n",
    "'''\n",
    "def printSoln(X,Y,freq):\n",
    "\n",
    "    def printHead(n):\n",
    "        print(\"\\n        x  \",end=\" \")\n",
    "        for i in range (n):\n",
    "            print(\"      y[\",i,\"] \",end=\" \")\n",
    "        print()\n",
    "\n",
    "    def printLine(x,y,n):\n",
    "        print(\"{:13.4e}\".format(x),end=\" \")\n",
    "        for i in range (n):\n",
    "            print(\"{:13.4e}\".format(y[i]),end=\" \")\n",
    "        print()\n",
    "    \n",
    "    m = len(Y)\n",
    "    try: n = len(Y[0])\n",
    "    except TypeError: n = 1\n",
    "    if freq == 0: freq = m\n",
    "    printHead(n)\n",
    "    for i in range(0,m,freq):\n",
    "        printLine(X[i],Y[i],n)\n",
    "    if i != m - 1: printLine(X[m - 1],Y[m - 1],n)\n"
   ]
  },
  {
   "cell_type": "code",
   "execution_count": 34,
   "metadata": {},
   "outputs": [
    {
     "name": "stdout",
     "output_type": "stream",
     "text": [
      "printSoln.py  ptomedio.py  version_information.py\r\n"
     ]
    }
   ],
   "source": [
    "# comprobamos a continuación que efectivamente se ha creado dicho archivo\n",
    "%ls *.py"
   ]
  },
  {
   "cell_type": "markdown",
   "metadata": {},
   "source": [
    "\n",
    "\n",
    "# Métodos de Euler"
   ]
  },
  {
   "cell_type": "code",
   "execution_count": 35,
   "metadata": {},
   "outputs": [
    {
     "name": "stdout",
     "output_type": "stream",
     "text": [
      "Writing eulerexplicito.py\n"
     ]
    }
   ],
   "source": [
    "%%file   eulerexplicito.py\n",
    "## módulo euler\n",
    "''' método de Euler para resolver el PVI\n",
    "    X,Y     = integrate(F,x0,y0,xfinal,N).\n",
    "    {y}'    = {F(x,{y})}, donde\n",
    "    {y}     = {y[0],y[1],...y[N-1]}.\n",
    "    x0,y0   = condiciones iniciales \n",
    "    xfinal  = valor final de la variable x\n",
    "    h       = incremento de x usado para la integración\n",
    "    F       = función suplida por el usuario que devuelve \n",
    "            el array F(x,y) = {y'[0],y'[1],...,y'[N-1]}.\n",
    "'''\n",
    "import numpy as np\n",
    "def integrate(F,x0,y0,xfinal,N):    \n",
    "    X = np.linspace(x0,xfinal,N+1)\n",
    "    Y = [y0]; h = (xfinal-x0)/N\n",
    "    for n in range(N):\n",
    "        Y.append(Y[n] + h*F(X[n],Y[n]))\n",
    "    return np.array(X),np.array(Y)"
   ]
  },
  {
   "cell_type": "code",
   "execution_count": 36,
   "metadata": {},
   "outputs": [],
   "source": [
    "# para usar el código anterior guardado en el fichero eulerexplicito.py\n",
    "import eulerexplicito"
   ]
  },
  {
   "cell_type": "code",
   "execution_count": 37,
   "metadata": {},
   "outputs": [],
   "source": [
    "# Si posteriormente tuviéramos que volver a importarlo, con Pyhton 3\n",
    "# import importlib    # necesitaríamosimportar previamente este módulo\n",
    "# importlib.reload(module)\n",
    "# importlib.reload(eulerimplicito) # y ya podríamos cargarlo de nuevo cuando queramos"
   ]
  },
  {
   "cell_type": "code",
   "execution_count": 38,
   "metadata": {},
   "outputs": [
    {
     "name": "stdout",
     "output_type": "stream",
     "text": [
      "eulerexplicito.py\r\n"
     ]
    }
   ],
   "source": [
    "%ls eulerexplicito.py"
   ]
  },
  {
   "cell_type": "code",
   "execution_count": 39,
   "metadata": {},
   "outputs": [
    {
     "name": "stdout",
     "output_type": "stream",
     "text": [
      "Help on module eulerexplicito:\n",
      "\n",
      "NAME\n",
      "    eulerexplicito\n",
      "\n",
      "DESCRIPTION\n",
      "    método de Euler para resolver el PVI\n",
      "    X,Y     = integrate(F,x0,y0,xfinal,N).\n",
      "    {y}'    = {F(x,{y})}, donde\n",
      "    {y}     = {y[0],y[1],...y[N-1]}.\n",
      "    x0,y0   = condiciones iniciales \n",
      "    xfinal  = valor final de la variable x\n",
      "    h       = incremento de x usado para la integración\n",
      "    F       = función suplida por el usuario que devuelve \n",
      "            el array F(x,y) = {y'[0],y'[1],...,y'[N-1]}.\n",
      "\n",
      "FUNCTIONS\n",
      "    integrate(F, x0, y0, xfinal, N)\n",
      "\n",
      "FILE\n",
      "    /home/daniel/Desktop/DANIEL/METODOS_NUMERICOS_II/practica_3/Ficheros .py e .ipynb de la práctica 3-20210601/eulerexplicito.py\n",
      "\n",
      "\n"
     ]
    }
   ],
   "source": [
    "help(eulerexplicito)"
   ]
  },
  {
   "cell_type": "code",
   "execution_count": 40,
   "metadata": {},
   "outputs": [],
   "source": [
    "# Apliquemos pues ahora este algoritmo del método de Euler explícito\n",
    "N=10;  # con un valor concreto de N y la función f que define nuestra EDO\n",
    "xx, yEulerexpl = eulerexplicito.integrate(f,a,ya,b,N)\n",
    "# y asignémosle los arrays que devuelve a las abcisas y ordenadas"
   ]
  },
  {
   "cell_type": "code",
   "execution_count": 41,
   "metadata": {},
   "outputs": [
    {
     "name": "stdout",
     "output_type": "stream",
     "text": [
      "[1.         1.1        1.21       1.331      1.4641     1.61051\n",
      " 1.771561   1.9487171  2.14358881 2.35794769 2.59374246]\n"
     ]
    }
   ],
   "source": [
    "print(yEulerexpl)  #  aprox. obenidas en los nodos considerados"
   ]
  },
  {
   "cell_type": "code",
   "execution_count": 42,
   "metadata": {},
   "outputs": [
    {
     "data": {
      "image/png": "[encoded data removed]",
      "text/plain": [
       "<Figure size 576x288 with 1 Axes>"
      ]
     },
     "metadata": {
      "image/png": {
       "height": 280,
       "width": 568
      },
      "needs_background": "light"
     },
     "output_type": "display_data"
    }
   ],
   "source": [
    "# que justo a continuación podremos dibujar y comparar con la sol. exacta\n",
    "fig, ax = plt.subplots(figsize=(8, 4))\n",
    "ax.plot(xx,yEulerexpl, 'bo',label = \"aprox. mét. Euler explícito\")\n",
    "ax.plot(xx, y_x(xx), label=\"sol. exacta\")\n",
    "ax.set_title(r\"Sol. exacta:  $y(t)=%s$\" % sp.latex(sol_exacta), fontsize=18)\n",
    "ax.set_xlabel(r\"$t$\", fontsize=18)\n",
    "ax.set_ylabel(r\"$y$\", fontsize=18)\n",
    "ax.legend()\n",
    "fig.tight_layout()\n",
    "graf_Eulerexpl = fig"
   ]
  },
  {
   "cell_type": "code",
   "execution_count": 43,
   "metadata": {},
   "outputs": [
    {
     "name": "stdout",
     "output_type": "stream",
     "text": [
      "Writing eulerimplicito.py\n"
     ]
    }
   ],
   "source": [
    "%%file eulerimplicito.py\n",
    "## módulo eulerimplicito\n",
    "''' método de Euler implicito para resolver el PVI\n",
    "    X,Y     = integrate(F,x0,y0,xfinal,N).\n",
    "    {y}'    = {F(x,{y})}, donde\n",
    "    {y}     = {y[0],y[1],...y[N-1]}.\n",
    "    x0,y0   = condiciones iniciales \n",
    "    xfinal  = valor final de la variable x\n",
    "    h       = incremento de x usado para la integración\n",
    "    F       = función suplida por el usuario que devuelve \n",
    "            el array F(x,y) = {y'[0],y'[1],...,y'[N-1]}.\n",
    "'''\n",
    "import numpy as np\n",
    "import sympy as sp\n",
    "def integrate(F,x0,y0,xfinal,N):    \n",
    "    X = np.linspace(x0,xfinal,N+1)\n",
    "    Y = [y0]; h = (xfinal-x0)/N\n",
    "    y1 = sp.Symbol('y1') # usaremos esta variable como incógnita\n",
    "    for n in range(N):   # de la ecuación a resolver en cada iteración\n",
    "        Y.append(sp.solve(Y[n]+h*F(X[n+1],y1)-y1,y1)[0])\n",
    "    return np.array(X),np.array(Y)"
   ]
  },
  {
   "cell_type": "code",
   "execution_count": 44,
   "metadata": {},
   "outputs": [],
   "source": [
    "import eulerimplicito  # así importaríamos el contenido guardado en euler.py"
   ]
  },
  {
   "cell_type": "code",
   "execution_count": 45,
   "metadata": {},
   "outputs": [
    {
     "name": "stdout",
     "output_type": "stream",
     "text": [
      "Writing eulerimplicitoaprox.py\n"
     ]
    }
   ],
   "source": [
    "%%file eulerimplicitoaprox.py\n",
    "## módulo eulerimplicitoaprox\n",
    "''' método de Euler implicito aprox para resolver el PVI\n",
    "    X,Y     = integrate(F,x0,y0,xfinal,N).\n",
    "    {y}'    = {F(x,{y})}, donde\n",
    "    {y}     = {y[0],y[1],...y[N-1]}.\n",
    "    x0,y0   = condiciones iniciales \n",
    "    xfinal  = valor final de la variable x\n",
    "    h       = incremento de x usado para la integración\n",
    "    F       = función suplida por el usuario que devuelve \n",
    "            el array F(x,y) = {y'[0],y'[1],...,y'[N-1]}.\n",
    "'''\n",
    "import numpy as np\n",
    "import sympy as sp\n",
    "\n",
    "def integrate(F,x0,y0,xfinal,N):    \n",
    "    X = np.linspace(x0,xfinal,N+1)\n",
    "    Y = [y0]; h = (xfinal-x0)/N\n",
    "    \n",
    "    for n in range(N):   \n",
    "        y1 = Y[n] + h*F(X[n],Y[n])    #  valor inicial para una\n",
    "        Y.append(Y[n]+h*F(X[n+1],y1)) #  iteración de punto fijo\n",
    "    return np.array(X),np.array(Y)"
   ]
  },
  {
   "cell_type": "code",
   "execution_count": 46,
   "metadata": {},
   "outputs": [],
   "source": [
    "# %ls euler*.py"
   ]
  },
  {
   "cell_type": "code",
   "execution_count": 47,
   "metadata": {},
   "outputs": [],
   "source": [
    "import eulerimplicitoaprox  # así importaríamos el contenido guardado en euler.py"
   ]
  },
  {
   "cell_type": "code",
   "execution_count": 48,
   "metadata": {},
   "outputs": [],
   "source": [
    "# Si posteriormente tuviéramos que volver a importarlo, con Pyhton 3\n",
    "# import importlib    # necesitaríamosimportar previamente este módulo\n",
    "# importlib.reload(module)\n",
    "# importlib.reload(eulerimplicito) # y ya podríamos cargarlo de nuevo cuando queramos"
   ]
  },
  {
   "cell_type": "code",
   "execution_count": 49,
   "metadata": {},
   "outputs": [],
   "source": [
    "# Apliquemos pues ahora alguna de estas versiones del algoritmo \n",
    "N=10;  # del método de Euler implícito, con un valor concreto de n\n",
    "xx, yEulerimpl = eulerimplicito.integrate(f,a,ya,b,N)\n",
    "xx, yEulerimplaprox = eulerimplicitoaprox.integrate(f,a,ya,b,N)\n",
    "# y asignémosle los arrays que devuelve a las abcisas y ordenadas"
   ]
  },
  {
   "cell_type": "code",
   "execution_count": 50,
   "metadata": {},
   "outputs": [
    {
     "name": "stdout",
     "output_type": "stream",
     "text": [
      "[1 1.11111111111111 1.23456790123457 1.37174211248285 1.52415790275873\n",
      " 1.69350878084303 1.88167642315892 2.09075158128769 2.32305731254188\n",
      " 2.58117479171320 2.86797199079244]\n"
     ]
    }
   ],
   "source": [
    "print(yEulerimpl)  #  aprox. obenidas en los nodos considerados"
   ]
  },
  {
   "cell_type": "code",
   "execution_count": 51,
   "metadata": {},
   "outputs": [
    {
     "name": "stdout",
     "output_type": "stream",
     "text": [
      "[1.         1.11       1.2321     1.367631   1.51807041 1.68505816\n",
      " 1.87041455 2.07616015 2.30453777 2.55803692 2.83942099]\n"
     ]
    }
   ],
   "source": [
    "print(yEulerimplaprox)  #  aprox. obenidas en los nodos considerados"
   ]
  },
  {
   "cell_type": "code",
   "execution_count": 52,
   "metadata": {},
   "outputs": [
    {
     "data": {
      "image/png": "[encoded data removed]",
      "text/plain": [
       "<Figure size 576x288 with 1 Axes>"
      ]
     },
     "metadata": {
      "image/png": {
       "height": 280,
       "width": 568
      },
      "needs_background": "light"
     },
     "output_type": "display_data"
    }
   ],
   "source": [
    "# que justo a continuación podremos dibujar y comparar con la sol. exacta\n",
    "fig, ax = plt.subplots(figsize=(8, 4))\n",
    "ax.plot(xx,yEulerimpl, 'bo',label = \"aprox. mét. Euler implícito\")\n",
    "ax.plot(xx,yEulerimplaprox, 'r-.D',label = \"aprox. mét. Euler implícito aprox.\")\n",
    "ax.plot(xx, y_x(xx), label=\"sol. exacta\")\n",
    "ax.set_title(r\"Sol. exacta:  $y(t)=%s$\" % sp.latex(sol_exacta), fontsize=18)\n",
    "ax.set_xlabel(r\"$t$\", fontsize=18)\n",
    "ax.set_ylabel(r\"$y$\", fontsize=18)\n",
    "ax.legend()\n",
    "fig.tight_layout()\n",
    "graf_Eulerimpl = fig"
   ]
  },
  {
   "cell_type": "code",
   "execution_count": 53,
   "metadata": {},
   "outputs": [],
   "source": [
    "# Al haberle puesto nombre a esta gráfica podremos volver a reproducirla\n",
    "# graf_Eulerimpl     # sin más que acordarnos de su nombre"
   ]
  },
  {
   "cell_type": "markdown",
   "metadata": {},
   "source": [
    "## Comparativa entre los métodos de Euler explícito e implícito"
   ]
  },
  {
   "cell_type": "code",
   "execution_count": 54,
   "metadata": {},
   "outputs": [
    {
     "name": "stdout",
     "output_type": "stream",
     "text": [
      "[1 1.10517091807565 1.22140275816017 1.34985880757600 1.49182469764127\n",
      " 1.64872127070013 1.82211880039051 2.01375270747048 2.22554092849247\n",
      " 2.45960311115695 2.71828182845905]\n"
     ]
    }
   ],
   "source": [
    "valores_exactos = np.array([sol_exacta.subs({t:xx[n]}) for n in range(len(xx))])\n",
    "print(valores_exactos)"
   ]
  },
  {
   "cell_type": "code",
   "execution_count": 55,
   "metadata": {},
   "outputs": [
    {
     "data": {
      "text/latex": [
       "$\\displaystyle 0.124539368359045$"
      ],
      "text/plain": [
       "0.124539368359045"
      ]
     },
     "execution_count": 55,
     "metadata": {},
     "output_type": "execute_result"
    }
   ],
   "source": [
    "abs(valores_exactos - yEulerexpl).max() # este sería el valor absoluto \n",
    "# máximo de las diferencias entre los valores exactos y los aproximados \n",
    "# mediante el uso del método de Euler explícito"
   ]
  },
  {
   "cell_type": "code",
   "execution_count": 56,
   "metadata": {},
   "outputs": [
    {
     "data": {
      "text/latex": [
       "$\\displaystyle 0.149690162333396$"
      ],
      "text/plain": [
       "0.149690162333396"
      ]
     },
     "execution_count": 56,
     "metadata": {},
     "output_type": "execute_result"
    }
   ],
   "source": [
    "abs(valores_exactos - yEulerimpl).max() # este sería el valor absoluto \n",
    "# máximo de las diferencias entre los valores exactos y los aproximados \n",
    "# mediante el uso del método de Euler implícito"
   ]
  },
  {
   "cell_type": "code",
   "execution_count": 57,
   "metadata": {},
   "outputs": [
    {
     "data": {
      "text/latex": [
       "$\\displaystyle 0.121139157609972$"
      ],
      "text/plain": [
       "0.121139157609972"
      ]
     },
     "execution_count": 57,
     "metadata": {},
     "output_type": "execute_result"
    }
   ],
   "source": [
    "abs(valores_exactos - yEulerimplaprox).max() # este sería el valor absoluto \n",
    "# máximo de las diferencias entre los valores exactos y los aproximados \n",
    "# mediante el uso del método de Euler implícito"
   ]
  },
  {
   "cell_type": "markdown",
   "metadata": {},
   "source": [
    "**Ejercicios:**\n",
    "1. Repita las aproximaciones anteriores con diferentes valores de $N$ (y por tanto de $h$) y compruebe el efecto en cuanto a mayor o menor precisión, estabilidad y coste computacional \n",
    "1. A partir de la implementación del algoritmo del método de Euler explícito, realice las modificaciones oportunas para obtener también las implementaciones correspondientes a los métodos de Euler mejorado (o del punto medio), así como del de Euler modificado (o de Heun)."
   ]
  },
  {
   "cell_type": "markdown",
   "metadata": {},
   "source": [
    "**Apartado 1**"
   ]
  },
  {
   "cell_type": "code",
   "execution_count": 58,
   "metadata": {},
   "outputs": [
    {
     "name": "stdout",
     "output_type": "stream",
     "text": [
      "\n",
      "Aproximaciones para N=%n------------------------------------------------------------------------ 15\n",
      "\n",
      "Aproximaciones Euler Explícito------------------------------------------------------------------\n",
      "[1.         1.06666667 1.13777778 1.21362963 1.29453827 1.38084082\n",
      " 1.47289688 1.57109    1.67582934 1.78755129 1.90672138 2.03383614\n",
      " 2.16942521 2.31405356 2.4683238  2.63287872]\n",
      "\n",
      "Aproximaciones Euler Implícito------------------------------------------------------------------\n",
      "[1 1.07142857142857 1.14795918367347 1.22995626822157 1.31781028738026\n",
      " 1.41193959362171 1.51279242173754 1.62084902329022 1.73662395352524\n",
      " 1.86066852163418 1.99357341603663 2.13597151718210 2.28854091126653\n",
      " 2.45200811921414 2.62715155630087 2.81480523889379]\n",
      "\n",
      "Aproximaciones Euler Implícito Aproximado-------------------------------------------------------\n",
      "[1.         1.07111111 1.14727901 1.2288633  1.31624913 1.40984907\n",
      " 1.510105   1.61749025 1.73251178 1.85571262 1.9876744  2.12902014\n",
      " 2.28041712 2.44258012 2.61627471 2.80232091]\n",
      "\n",
      "Valores exactos---------------------------------------------------------------------------------\n",
      "[1 1.06893910574725 1.14263081179572 1.22140275816017 1.30560517206495\n",
      " 1.39561242508609 1.49182469764127 1.59466975822832 1.70460486532275\n",
      " 1.82211880039051 1.94773404105468 2.08200908407846 2.22554092849247\n",
      " 2.37896772990663 2.54297163780795 2.71828182845905]\n",
      "\n",
      "Errores Euler Explícito-------------------------------------------------------------------------\n",
      "[0 0.00227243908057972 0.00485303401794490 0.00777312853054024\n",
      " 0.0110669004600137 0.0147716020408220 0.0189278197263183\n",
      " 0.0235797551190333 0.0287755286728522 0.0345675079639478\n",
      " 0.0410126624663438 0.0481729469175680 0.0561157155208547\n",
      " 0.0649141694035804 0.0746478399380304 0.0854031107311259]\n",
      "\n",
      "Error máximo Euler Explícito--------------------------------------------------------------------\n",
      "0.0854031107311259\n",
      "\n",
      "Errores Euler Implícito-------------------------------------------------------------------------\n",
      "[0 0.00248946568132502 0.00532837187774682 0.00855351006140448\n",
      " 0.0122051153153062 0.0163271685356157 0.0209677240962709\n",
      " 0.0261792650619073 0.0320190882024856 0.0385497212436756\n",
      " 0.0458393749819503 0.0539624331036439 0.0629999827740670\n",
      " 0.0730403893075104 0.0841799184929148 0.0965234104347434]\n",
      "\n",
      "Error máximo Euler Implícito--------------------------------------------------------------------\n",
      "0.0965234104347434\n",
      "\n",
      "Errores Euler Implícito Aproximado--------------------------------------------------------------\n",
      "[0 0.00217200536386475 0.00464820054995640 0.00746053950786862\n",
      " 0.0106439601039248 0.0142366453703517 0.0182803067142956\n",
      " 0.0228204908814240 0.0279069126125679 0.0335938150868795\n",
      " 0.0399403604122159 0.0470110526038594 0.0548761956872563\n",
      " 0.0636123897703147 0.0733030681571334 0.0840390788191159]\n",
      "\n",
      "Error máximo Euler Implícito Aproximado---------------------------------------------------------\n",
      "0.0840390788191159\n",
      "\n",
      "Aproximaciones para N=%n------------------------------------------------------------------------ 25\n",
      "\n",
      "Aproximaciones Euler Explícito------------------------------------------------------------------\n",
      "[1.         1.04       1.0816     1.124864   1.16985856 1.2166529\n",
      " 1.26531902 1.31593178 1.36856905 1.42331181 1.48024428 1.53945406\n",
      " 1.60103222 1.66507351 1.73167645 1.80094351 1.87298125 1.9479005\n",
      " 2.02581652 2.10684918 2.19112314 2.27876807 2.36991879 2.46471554\n",
      " 2.56330416 2.66583633]\n",
      "\n",
      "Aproximaciones Euler Implícito------------------------------------------------------------------\n",
      "[1 1.04166666666667 1.08506944444444 1.13028067129630 1.17737569926698\n",
      " 1.22643302006977 1.27753439590601 1.33076499573542 1.38621353722440\n",
      " 1.44397243460875 1.50413795271745 1.56681036741401 1.63209413272292\n",
      " 1.70009805491971 1.77093547387470 1.84472445195281 1.92158797078418\n",
      " 2.00165413623352 2.08505639190992 2.17193374157283 2.26243098080503\n",
      " 2.35669893833858 2.45489472743602 2.55718200774585 2.66373125806859\n",
      " 2.77472006048812]\n",
      "\n",
      "Aproximaciones Euler Implícito Aproximado-------------------------------------------------------\n",
      "[1.         1.0416     1.08493056 1.13006367 1.17707432 1.22604061\n",
      " 1.2770439  1.33016893 1.38550395 1.44314092 1.50317558 1.56570769\n",
      " 1.63084113 1.69868412 1.76934938 1.84295431 1.91962121 1.99947745\n",
      " 2.08265571 2.16929419 2.25953683 2.35353356 2.45144056 2.55342048\n",
      " 2.65964278 2.77028392]\n",
      "\n",
      "Valores exactos---------------------------------------------------------------------------------\n",
      "[1 1.04081077419239 1.08328706767496 1.12749685157938 1.17351087099181\n",
      " 1.22140275816017 1.27124915032140 1.32312981233744 1.37712776433596\n",
      " 1.43332941456034 1.49182469764127 1.55270721851134 1.61607440219289\n",
      " 1.68202764969889 1.75067250029610 1.82211880039051 1.89648087930495\n",
      " 1.97387773223045 2.05443321064389 2.13827622049682 2.22554092849247\n",
      " 2.31636697678109 2.41089970641721 2.50929038993630 2.61169647342312\n",
      " 2.71828182845905]\n",
      "\n",
      "Errores Euler Explícito-------------------------------------------------------------------------\n",
      "[0 0.000810774192388175 0.00168706767495852 0.00263285157937565\n",
      " 0.00365231099181029 0.00474985576016995 0.00593013182540481\n",
      " 0.00719803310159706 0.00855871393068375 0.0100176021388558\n",
      " 0.0115804127229266 0.0132531621962586 0.0150421836252130\n",
      " 0.0169541423884987 0.0189960526932980 0.0211752948835935\n",
      " 0.0234996335777595 0.0259772366741682 0.0286166952653568\n",
      " 0.0314270445031464 0.0344177854590488 0.0375989080263355\n",
      " 0.0409809149122635 0.0445748467711540 0.0483923085313682\n",
      " 0.0524454969716257]\n",
      "\n",
      "Error máximo Euler Explícito--------------------------------------------------------------------\n",
      "0.0524454969716257\n",
      "\n",
      "Errores Euler Implícito-------------------------------------------------------------------------\n",
      "[0 0.000855892474278530 0.00178237676948578 0.00278381971692054\n",
      " 0.00386482827516499 0.00503026190959610 0.00628524558460142\n",
      " 0.00763518339798619 0.00908577288844192 0.0106430200484089\n",
      " 0.0123132550761766 0.0141031489026713 0.0160197305300307\n",
      " 0.0180704052208263 0.0202629735785995 0.0226056515623043\n",
      " 0.0251070914792291 0.0277764040030735 0.0306231812660305\n",
      " 0.0336575210760128 0.0368900523125646 0.0403319615574840\n",
      " 0.0439950210188065 0.0478916178095523 0.0520347846454761\n",
      " 0.0564382320290737]\n",
      "\n",
      "Error máximo Euler Implícito--------------------------------------------------------------------\n",
      "0.0564382320290737\n",
      "\n",
      "Errores Euler Implícito Aproximado--------------------------------------------------------------\n",
      "[0 0.000789225807611871 0.00164349232504146 0.00256681971662442\n",
      " 0.00356344903010353 0.00463785357465563 0.00579475086158943\n",
      " 0.00703911513476974 0.00837619051909333 0.00981150481668047\n",
      " 0.0113508839818344 0.0130004673072899 0.0147667233557873\n",
      " 0.0166564666726194 0.0186768753164592 0.0208355092475341\n",
      " 0.0231403296140340 0.0255997189795676 0.0282225025364644\n",
      " 0.0310179703518361 0.0339959006954906 0.0371665845010862\n",
      " 0.0405408510143066 0.0441300946843697 0.0479463033577696\n",
      " 0.0520020878359273]\n",
      "\n",
      "Error máximo Euler Implícito Aproximado---------------------------------------------------------\n",
      "0.0520020878359273\n",
      "\n",
      "Aproximaciones para N=%n------------------------------------------------------------------------ 50\n",
      "\n",
      "Aproximaciones Euler Explícito------------------------------------------------------------------\n",
      "[1.         1.02       1.0404     1.061208   1.08243216 1.1040808\n",
      " 1.12616242 1.14868567 1.17165938 1.19509257 1.21899442 1.24337431\n",
      " 1.26824179 1.29360663 1.31947876 1.34586834 1.37278571 1.40024142\n",
      " 1.42824625 1.45681117 1.4859474  1.51566634 1.54597967 1.57689926\n",
      " 1.60843725 1.64060599 1.67341811 1.70688648 1.74102421 1.77584469\n",
      " 1.81136158 1.84758882 1.88454059 1.9222314  1.96067603 1.99988955\n",
      " 2.03988734 2.08068509 2.12229879 2.16474477 2.20803966 2.25220046\n",
      " 2.29724447 2.34318936 2.39005314 2.43785421 2.48661129 2.53634352\n",
      " 2.58707039 2.63881179 2.69158803]\n",
      "\n",
      "Aproximaciones Euler Implícito------------------------------------------------------------------\n",
      "[1 1.02040816326531 1.04123281965848 1.06248246903926 1.08416578473394\n",
      " 1.10629161707545 1.12886899701576 1.15190713981200 1.17541544878776\n",
      " 1.19940351917118 1.22388114201141 1.24885830817491 1.27434521242338\n",
      " 1.30035225757487 1.32689005874987 1.35396944770395 1.38160147724893\n",
      " 1.40979742576421 1.43856880180022 1.46792734877573 1.49788504977116\n",
      " 1.52845413241955 1.55964707389750 1.59147660601785 1.62395572042638\n",
      " 1.65709767390447 1.69091599378007 1.72542448344905 1.76063722800924\n",
      " 1.79656860000943 1.83323326531574 1.87064618909770 1.90882264193642\n",
      " 1.94777820605758 1.98752878169140 2.02809059356266 2.06948019751291\n",
      " 2.11171448725808 2.15481070128375 2.19878642988138 2.24365962232794\n",
      " 2.28944859421218 2.33617203491039 2.38384901521468 2.43249899511702\n",
      " 2.48214183175206 2.53279778750211 2.58448753826746 2.63723218190557\n",
      " 2.69105324684242 2.74597270085961]\n",
      "\n",
      "Aproximaciones Euler Implícito Aproximado-------------------------------------------------------\n",
      "[1.         1.0204     1.04121616 1.06245697 1.08413109 1.10624737\n",
      " 1.12881481 1.15184263 1.17534022 1.19931716 1.22378324 1.24874841\n",
      " 1.27422288 1.30021703 1.32674145 1.35380698 1.38142464 1.40960571\n",
      " 1.43836166 1.46770424 1.49764541 1.52819737 1.5593726  1.5911838\n",
      " 1.62364395 1.65676629 1.69056432 1.72505183 1.76024289 1.79615184\n",
      " 1.83279334 1.87018232 1.90833404 1.94726406 1.98698825 2.02752281\n",
      " 2.06888427 2.11108951 2.15415574 2.19810051 2.24294176 2.28869778\n",
      " 2.33538721 2.38302911 2.4316429  2.48124842 2.53186589 2.58351595\n",
      " 2.63621968 2.68999856 2.74487453]\n",
      "\n",
      "Valores exactos---------------------------------------------------------------------------------\n",
      "[1 1.02020134002676 1.04081077419239 1.06183654654536 1.08328706767496\n",
      " 1.10517091807565 1.12749685157938 1.15027379885723 1.17351087099181\n",
      " 1.19721736312181 1.22140275816017 1.24607673058738 1.27124915032140\n",
      " 1.29693008666577 1.32312981233744 1.34985880757600 1.37712776433596\n",
      " 1.40494759056359 1.43332941456034 1.46228458943422 1.49182469764127\n",
      " 1.52196155561863 1.55270721851134 1.58407398499448 1.61607440219289\n",
      " 1.64872127070013 1.68202764969889 1.71600686218486 1.75067250029610\n",
      " 1.78603843075007 1.82211880039051 1.85892804184634 1.89648087930495\n",
      " 1.93479233440203 1.97387773223045 2.01375270747048 2.05443321064389\n",
      " 2.09593551449436 2.13827622049682 2.18147226549820 2.22554092849247\n",
      " 2.27049983753241 2.31636697678109 2.36316069370579 2.41089970641721\n",
      " 2.45960311115695 2.50929038993630 2.55998141832927 2.61169647342312\n",
      " 2.66445624192942 2.71828182845905]\n",
      "\n",
      "Errores Euler Explícito-------------------------------------------------------------------------\n",
      "[0 0.000201340026755759 0.000410774192388219 0.000628546545359709\n",
      " 0.000854907674958660 0.00109011487564770 0.00133443231537567\n",
      " 0.00158813120794732 0.00185148998954454 0.00212479449949909\n",
      " 0.00240833816541253 0.00270242219272832 0.00300735575885924\n",
      " 0.00332345621197550 0.00365104927456472 0.00399046925187352\n",
      " 0.00434205924534492 0.00470617137116913 0.00508316698406697\n",
      " 0.00547341690642589 0.00587730166291589 0.00629521172071201\n",
      " 0.00672754773545581 0.00717472080308412 0.00763715271766774\n",
      " 0.00811527623539798 0.00860953534486164 0.00912038554375338\n",
      " 0.00964829412217405 0.0101937404526677 0.0107572162871552\n",
      " 0.0113392260609213 0.0119402872038223 0.0125609304588801\n",
      " 0.0132017002084330 0.0138631548080217 0.0145458669281835\n",
      " 0.0152504239043463 0.0159774280949998 0.0167274972483460\n",
      " 0.0175012648776156 0.0182993806452569 0.0191225107561994\n",
      " 0.0199713383604050 0.0208465639649122 0.0217489058556062\n",
      " 0.0226791005289275 0.0236379031337539 0.0246260879236897\n",
      " 0.0256444487200000 0.0266937993854399]\n",
      "\n",
      "Error máximo Euler Explícito--------------------------------------------------------------------\n",
      "0.0266937993854399\n",
      "\n",
      "Errores Euler Implícito-------------------------------------------------------------------------\n",
      "[0 0.000206823238550369 0.000422045466087484 0.000645922493901274\n",
      " 0.000878717058981016 0.00112069899980094 0.00137214543638819\n",
      " 0.00163334095477663 0.00190457779594877 0.00218615604937256\n",
      " 0.00247838385124122 0.00278157758752839 0.00309606210197200\n",
      " 0.00342217090910246 0.00376024641243489 0.00411064012794760\n",
      " 0.00447371291297216 0.00484983520061988 0.00523938723987771\n",
      " 0.00564275934150804 0.00606035212988543 0.00649257680091297\n",
      " 0.00693985538616060 0.00740262102337175 0.00788131823348781\n",
      " 0.00837640320434252 0.00888834408118577 0.00941762126419454\n",
      " 0.00996472771313672 0.0105301692593531 0.0111144649252324\n",
      " 0.0117181472513530 0.0123417626314721 0.0129858716555435\n",
      " 0.0136510494609554 0.0143378860921799 0.0150469868690268\n",
      " 0.0157789727637119 0.0165344807869325 0.0173141643831776\n",
      " 0.0181186938354698 0.0189487566797748 0.0198050581292972\n",
      " 0.0206883215088878 0.0215992886998131 0.0225387205951146\n",
      " 0.0235073975658087 0.0245061199381840 0.0255357084824492\n",
      " 0.0265970049129982 0.0276908724005622]\n",
      "\n",
      "Error máximo Euler Implícito--------------------------------------------------------------------\n",
      "0.0276908724005622\n",
      "\n",
      "Errores Euler Implícito Aproximado--------------------------------------------------------------\n",
      "[0 0.000198659973244197 0.000405385807611847 0.000620423118640412\n",
      " 0.000844024170187030 0.00107644804313889 0.00131796080823410\n",
      " 0.00156883570308963 0.00182935331353717 0.00209980175936630\n",
      " 0.00238047688458254 0.00267168245228455 0.00297373034426984\n",
      " 0.00328694076548253 0.00361164245341494 0.00394817289258209\n",
      " 0.00429687853418725 0.00465811502110158 0.00503224741828290\n",
      " 0.00541965044876247 0.00582070873532947 0.00623581704804876\n",
      " 0.00666538055774679 0.00710981509561015 0.00756954741903648\n",
      " 0.00804501548388514 0.00853666872328085 0.00904496833312085\n",
      " 0.00957038756444506 0.0101134120228281 0.0106745399749599\n",
      " 0.0112542826625823 0.0118531646239550 0.0124717240230245\n",
      " 0.0131105129864797 0.0137700979488762 0.0144510600060199\n",
      " 0.0151539952768012 0.0158795152736788 0.0166282472820143\n",
      " 0.0174008347484640 0.0181979376786408 0.0190202330442606\n",
      " 0.0198684151999946 0.0207431963102578 0.0216453067861582\n",
      " 0.0225754957328497 0.0235345314075266 0.0245232016883112\n",
      " 0.0255423145542855 0.0265926985769247]\n",
      "\n",
      "Error máximo Euler Implícito Aproximado---------------------------------------------------------\n",
      "0.0265926985769247\n"
     ]
    },
    {
     "data": {
      "image/png": "[encoded data removed]",
      "text/plain": [
       "<Figure size 576x288 with 1 Axes>"
      ]
     },
     "metadata": {
      "image/png": {
       "height": 280,
       "width": 568
      },
      "needs_background": "light"
     },
     "output_type": "display_data"
    },
    {
     "data": {
      "image/png": "[encoded data removed]",
      "text/plain": [
       "<Figure size 576x288 with 1 Axes>"
      ]
     },
     "metadata": {
      "image/png": {
       "height": 280,
       "width": 568
      },
      "needs_background": "light"
     },
     "output_type": "display_data"
    },
    {
     "data": {
      "image/png": "[encoded data removed]",
      "text/plain": [
       "<Figure size 576x288 with 1 Axes>"
      ]
     },
     "metadata": {
      "image/png": {
       "height": 280,
       "width": 568
      },
      "needs_background": "light"
     },
     "output_type": "display_data"
    }
   ],
   "source": [
    "#1\n",
    "#Para tres valores de N (15,25 y 50) calculamos los valores\n",
    "for i in [15,25,50]:\n",
    "    N=i\n",
    "    \n",
    "    print(\"\\nAproximaciones para N=%n------------------------------------------------------------------------\", N)\n",
    "    \n",
    "    #Primero calculamos Euler explícito\n",
    "    xx, yEulerexpl = eulerexplicito.integrate(f,a,ya,b,N)\n",
    "    print(\"\\nAproximaciones Euler Explícito------------------------------------------------------------------\")\n",
    "    print(yEulerexpl)\n",
    "    \n",
    "    #Segundo calculamos Euler implícito\n",
    "    xx, yEulerimpl = eulerimplicito.integrate(f,a,ya,b,N)\n",
    "    print(\"\\nAproximaciones Euler Implícito------------------------------------------------------------------\")\n",
    "    print(yEulerimpl)\n",
    "    \n",
    "    #Tercero calculamos Euler implícito aproximado\n",
    "    xx, yEulerimplaprox = eulerimplicitoaprox.integrate(f,a,ya,b,N)\n",
    "    print(\"\\nAproximaciones Euler Implícito Aproximado-------------------------------------------------------\")\n",
    "    print(yEulerimplaprox)\n",
    "    \n",
    "    valores_exactos = np.array([sol_exacta.subs({t:xx[n]}) for n in range(len(xx))])\n",
    "    print(\"\\nValores exactos---------------------------------------------------------------------------------\")\n",
    "    print(valores_exactos)\n",
    "    \n",
    "    print(\"\\nErrores Euler Explícito-------------------------------------------------------------------------\")\n",
    "    error_eulerexpl=abs(valores_exactos-yEulerexpl)\n",
    "    print(abs(valores_exactos-yEulerexpl))\n",
    "    print(\"\\nError máximo Euler Explícito--------------------------------------------------------------------\")\n",
    "    print(error_eulerexpl.max())\n",
    "    \n",
    "    print(\"\\nErrores Euler Implícito-------------------------------------------------------------------------\")\n",
    "    error_eulerimpl=abs(valores_exactos-yEulerimpl)\n",
    "    print(abs(valores_exactos-yEulerimpl))\n",
    "    print(\"\\nError máximo Euler Implícito--------------------------------------------------------------------\")\n",
    "    print(error_eulerimpl.max())\n",
    "    \n",
    "    print(\"\\nErrores Euler Implícito Aproximado--------------------------------------------------------------\")\n",
    "    error_eulerimplaprox=abs(valores_exactos-yEulerimplaprox)\n",
    "    print(abs(valores_exactos-yEulerimplaprox))\n",
    "    \n",
    "    print(\"\\nError máximo Euler Implícito Aproximado---------------------------------------------------------\")\n",
    "    print(error_eulerimplaprox.max())\n",
    "    \n",
    "    #Por último dibujamos la comparativa de las tres\n",
    "    # que justo a continuación podremos dibujar y comparar con la sol. exacta\n",
    "    fig, ax = plt.subplots(figsize=(8, 4))\n",
    "    ax.plot(xx,yEulerexpl, 'bo',label = \"aprox. mét. Euler explícito\")\n",
    "    ax.plot(xx,yEulerimpl, 'ro',label = \"aprox. mét. Euler implícito\")\n",
    "    ax.plot(xx,yEulerimplaprox, 'go',label = \"aprox. mét. Euler implícito aproximado\")\n",
    "    ax.plot(xx, y_x(xx), label=\"sol. exacta\")\n",
    "    ax.set_title(r\"Sol. exacta:  $y(t)=%s$\" % sp.latex(sol_exacta), fontsize=18)\n",
    "    ax.set_xlabel(r\"$t$\", fontsize=18)\n",
    "    ax.set_ylabel(r\"$y$\", fontsize=18)\n",
    "    ax.legend()\n",
    "    fig.tight_layout()\n",
    "    graf_Eulerimpl = fig"
   ]
  },
  {
   "cell_type": "markdown",
   "metadata": {},
   "source": [
    "Se puede apreciar que conforme $N$ se hace más grande, y por tanto $h$ más pequeño, el error en valor absoluto entre la aproximación y el valor exacto se hace más pequeño. Por otro lado el error aumenta conforme más aproximaciones hacemos, es decir, la aproximación $x_{20}$ tiene un error mayor que la aproximación $x_{10}$, lo que nos dice que el error local es notable, pues paso a paso se acumula un error que se hace visible incluso en la gráfica.\n",
    "\n",
    "Por otro para la estabilidad hemos hecho la diferencia en valor absoluto dos a dos entre los tres métodos que hemos utilizado"
   ]
  },
  {
   "cell_type": "code",
   "execution_count": 59,
   "metadata": {
    "scrolled": true
   },
   "outputs": [],
   "source": [
    "import timeit\n",
    "\n",
    "N=15"
   ]
  },
  {
   "cell_type": "code",
   "execution_count": 60,
   "metadata": {},
   "outputs": [
    {
     "name": "stdout",
     "output_type": "stream",
     "text": [
      "38.7 µs ± 3.85 µs per loop (mean ± std. dev. of 7 runs, 10000 loops each)\n"
     ]
    }
   ],
   "source": [
    "%%timeit\n",
    "eulerexplicito.integrate(f,a,ya,b,N)"
   ]
  },
  {
   "cell_type": "code",
   "execution_count": 61,
   "metadata": {},
   "outputs": [
    {
     "name": "stdout",
     "output_type": "stream",
     "text": [
      "192 ms ± 11.2 ms per loop (mean ± std. dev. of 7 runs, 1 loop each)\n"
     ]
    }
   ],
   "source": [
    "%%timeit\n",
    "eulerimplicito.integrate(f,a,ya,b,N)"
   ]
  },
  {
   "cell_type": "code",
   "execution_count": 62,
   "metadata": {},
   "outputs": [
    {
     "name": "stdout",
     "output_type": "stream",
     "text": [
      "41.5 µs ± 1.65 µs per loop (mean ± std. dev. of 7 runs, 10000 loops each)\n"
     ]
    }
   ],
   "source": [
    "%%timeit\n",
    "eulerimplicitoaprox.integrate(f,a,ya,b,N)"
   ]
  },
  {
   "cell_type": "code",
   "execution_count": 63,
   "metadata": {},
   "outputs": [],
   "source": [
    "N=25"
   ]
  },
  {
   "cell_type": "code",
   "execution_count": 64,
   "metadata": {},
   "outputs": [
    {
     "name": "stdout",
     "output_type": "stream",
     "text": [
      "39.4 µs ± 1.88 µs per loop (mean ± std. dev. of 7 runs, 10000 loops each)\n"
     ]
    }
   ],
   "source": [
    "%%timeit\n",
    "eulerexplicito.integrate(f,a,ya,b,N)"
   ]
  },
  {
   "cell_type": "code",
   "execution_count": 65,
   "metadata": {},
   "outputs": [
    {
     "name": "stdout",
     "output_type": "stream",
     "text": [
      "353 ms ± 23.4 ms per loop (mean ± std. dev. of 7 runs, 1 loop each)\n"
     ]
    }
   ],
   "source": [
    "%%timeit\n",
    "eulerimplicito.integrate(f,a,ya,b,N)"
   ]
  },
  {
   "cell_type": "code",
   "execution_count": 66,
   "metadata": {},
   "outputs": [
    {
     "name": "stdout",
     "output_type": "stream",
     "text": [
      "45.1 µs ± 1.89 µs per loop (mean ± std. dev. of 7 runs, 10000 loops each)\n"
     ]
    }
   ],
   "source": [
    "%%timeit\n",
    "eulerimplicitoaprox.integrate(f,a,ya,b,N)"
   ]
  },
  {
   "cell_type": "code",
   "execution_count": 67,
   "metadata": {},
   "outputs": [],
   "source": [
    "N=50"
   ]
  },
  {
   "cell_type": "code",
   "execution_count": 68,
   "metadata": {},
   "outputs": [
    {
     "name": "stdout",
     "output_type": "stream",
     "text": [
      "47.1 µs ± 1.8 µs per loop (mean ± std. dev. of 7 runs, 10000 loops each)\n"
     ]
    }
   ],
   "source": [
    "%%timeit\n",
    "eulerexplicito.integrate(f,a,ya,b,N)"
   ]
  },
  {
   "cell_type": "code",
   "execution_count": 69,
   "metadata": {},
   "outputs": [
    {
     "name": "stdout",
     "output_type": "stream",
     "text": [
      "682 ms ± 29.9 ms per loop (mean ± std. dev. of 7 runs, 1 loop each)\n"
     ]
    }
   ],
   "source": [
    "%%timeit\n",
    "eulerimplicito.integrate(f,a,ya,b,N)"
   ]
  },
  {
   "cell_type": "code",
   "execution_count": null,
   "metadata": {},
   "outputs": [],
   "source": [
    "%%timeit\n",
    "eulerimplicitoaprox.integrate(f,a,ya,b,N)"
   ]
  },
  {
   "cell_type": "markdown",
   "metadata": {},
   "source": [
    "Vemos que claramente el método más costoso computacionalmente es el método de Euler implícito, que requiere de promedio más tiempo de ejecución. El siguiente es el método de euler implícito aproximado que tarda un poco más que el método de euler explícito. Esto coincide con los esperado, pues Euler implícito debe resolver en cada paso una ecuación, lo que requiere tiempo. \n",
    "\n",
    "Por otro lado los métodos al ser de un paso con $\\alpha_0=1$ son 0-estables.\n",
    "\n",
    "**Apartado 2**"
   ]
  },
  {
   "cell_type": "code",
   "execution_count": null,
   "metadata": {},
   "outputs": [],
   "source": [
    "%%file   eulermejorado.py\n",
    "## módulo euler\n",
    "''' método de Euler para resolver el PVI\n",
    "    X,Y     = integrate(F,x0,y0,xfinal,N).\n",
    "    {y}'    = {F(x,{y})}, donde\n",
    "    {y}     = {y[0],y[1],...y[N-1]}.\n",
    "    x0,y0   = condiciones iniciales \n",
    "    xfinal  = valor final de la variable x\n",
    "    h       = incremento de x usado para la integración\n",
    "    F       = función suplida por el usuario que devuelve \n",
    "            el array F(x,y) = {y'[0],y'[1],...,y'[N-1]}.\n",
    "'''\n",
    "import numpy as np\n",
    "def integrate(F,x0,y0,xfinal,N):    \n",
    "    X = np.linspace(x0,xfinal,N+1)\n",
    "    Y = [y0]; h = (xfinal-x0)/N\n",
    "    for n in range(N):\n",
    "        Y.append(Y[n] + h*F(X[n]+h/2,Y[n]+h/2*F(X[n],Y[n])))\n",
    "    return np.array(X),np.array(Y)"
   ]
  },
  {
   "cell_type": "code",
   "execution_count": null,
   "metadata": {
    "scrolled": true
   },
   "outputs": [],
   "source": [
    "%%file   eulermodificado.py\n",
    "## módulo euler\n",
    "''' método de Euler para resolver el PVI\n",
    "    X,Y     = integrate(F,x0,y0,xfinal,N).\n",
    "    {y}'    = {F(x,{y})}, donde\n",
    "    {y}     = {y[0],y[1],...y[N-1]}.\n",
    "    x0,y0   = condiciones iniciales \n",
    "    xfinal  = valor final de la variable x\n",
    "    h       = incremento de x usado para la integración\n",
    "    F       = función suplida por el usuario que devuelve \n",
    "            el array F(x,y) = {y'[0],y'[1],...,y'[N-1]}.\n",
    "'''\n",
    "import numpy as np\n",
    "def integrate(F,x0,y0,xfinal,N):    \n",
    "    X = np.linspace(x0,xfinal,N+1)\n",
    "    Y = [y0]; h = (xfinal-x0)/N\n",
    "    for n in range(N):\n",
    "        Y.append(Y[n] + h/2*(F(X[n],Y[n])+F(X[n+1],Y[n]+h*F(X[n],Y[n]))))\n",
    "    return np.array(X),np.array(Y)"
   ]
  },
  {
   "cell_type": "code",
   "execution_count": null,
   "metadata": {},
   "outputs": [],
   "source": [
    "import eulermodificado\n",
    "import eulermejorado"
   ]
  },
  {
   "cell_type": "code",
   "execution_count": null,
   "metadata": {},
   "outputs": [],
   "source": [
    "#Para tres valores de N (15,25 y 50) calculamos los valores\n",
    "for i in [15,25,50]:\n",
    "    N=i\n",
    "    \n",
    "    print(\"\\nAproximaciones para N=%n------------------------------------------------------------------------\", N)\n",
    "    \n",
    "    #Primero calculamos Euler explícito\n",
    "    xx, yEulermodificado = eulermodificado.integrate(f,a,ya,b,N)\n",
    "    print(\"\\nAproximaciones Euler Modificado-----------------------------------------------------------------\")\n",
    "    print(yEulermodificado)\n",
    "    \n",
    "    #Segundo calculamos Euler implícito\n",
    "    xx, yEulermejorado = eulermejorado.integrate(f,a,ya,b,N)\n",
    "    print(\"\\nAproximaciones Euler Mejorado-------------------------------------------------------------------\")\n",
    "    print(yEulermejorado)\n",
    "    \n",
    "    valores_exactos = np.array([sol_exacta.subs({t:xx[n]}) for n in range(len(xx))])\n",
    "    print(\"\\nValores exactos---------------------------------------------------------------------------------\")\n",
    "    print(valores_exactos)\n",
    "    \n",
    "    print(\"\\nErrores Euler Modificado------------------------------------------------------------------------\")\n",
    "    error_eulermodificado=abs(valores_exactos-yEulermodificado)\n",
    "    print(error_eulermodificado)\n",
    "    print(\"\\nError máximo Euler Modificado-------------------------------------------------------------------\")\n",
    "    print(error_eulermodificado.max())\n",
    "    \n",
    "    print(\"\\nErrores Euler Mejorado--------------------------------------------------------------------------\")\n",
    "    error_eulermejorado=abs(valores_exactos-yEulermejorado)\n",
    "    print(error_eulermejorado)\n",
    "    print(\"\\nError máximo Euler Mejorado---------------------------------------------------------------------\")\n",
    "    print(error_eulermejorado.max())\n",
    "    \n",
    "    #Por último dibujamos la comparativa de las tres\n",
    "    # que justo a continuación podremos dibujar y comparar con la sol. exacta\n",
    "    fig, ax = plt.subplots(figsize=(8, 4))\n",
    "    ax.plot(xx,yEulermodificado, 'bo',label = \"aprox. mét. Euler modificado\")\n",
    "    ax.plot(xx,yEulermejorado, 'ro',label = \"aprox. mét. Euler mejorado\")\n",
    "    ax.plot(xx, y_x(xx), label=\"sol. exacta\")\n",
    "    ax.set_title(r\"Sol. exacta:  $y(t)=%s$\" % sp.latex(sol_exacta), fontsize=18)\n",
    "    ax.set_xlabel(r\"$t$\", fontsize=18)\n",
    "    ax.set_ylabel(r\"$y$\", fontsize=18)\n",
    "    ax.legend()\n",
    "    fig.tight_layout()\n",
    "    graf_Eulerimpl = fig"
   ]
  },
  {
   "cell_type": "markdown",
   "metadata": {},
   "source": [
    "Vemos que haciendo las mismas pruebas para los nuevos métodos las aproximaciones obtenidas son mejores. Además para ambos métodos los errores máximos obtenidos son prácticamente iguales."
   ]
  },
  {
   "cell_type": "code",
   "execution_count": null,
   "metadata": {
    "scrolled": true
   },
   "outputs": [],
   "source": [
    "import timeit\n",
    "\n",
    "N=15"
   ]
  },
  {
   "cell_type": "code",
   "execution_count": null,
   "metadata": {},
   "outputs": [],
   "source": [
    "%%timeit\n",
    "eulermodificado.integrate(f,a,ya,b,N)"
   ]
  },
  {
   "cell_type": "code",
   "execution_count": null,
   "metadata": {},
   "outputs": [],
   "source": [
    "%%timeit\n",
    "eulermejorado.integrate(f,a,ya,b,N)"
   ]
  },
  {
   "cell_type": "code",
   "execution_count": null,
   "metadata": {},
   "outputs": [],
   "source": [
    "N=25"
   ]
  },
  {
   "cell_type": "code",
   "execution_count": null,
   "metadata": {},
   "outputs": [],
   "source": [
    "%%timeit\n",
    "eulermodificado.integrate(f,a,ya,b,N)"
   ]
  },
  {
   "cell_type": "code",
   "execution_count": null,
   "metadata": {},
   "outputs": [],
   "source": [
    "%%timeit\n",
    "eulermejorado.integrate(f,a,ya,b,N)"
   ]
  },
  {
   "cell_type": "code",
   "execution_count": null,
   "metadata": {},
   "outputs": [],
   "source": [
    "N=50"
   ]
  },
  {
   "cell_type": "code",
   "execution_count": null,
   "metadata": {},
   "outputs": [],
   "source": [
    "%%timeit\n",
    "eulermodificado.integrate(f,a,ya,b,N)"
   ]
  },
  {
   "cell_type": "code",
   "execution_count": null,
   "metadata": {},
   "outputs": [],
   "source": [
    "%%timeit\n",
    "eulermejorado.integrate(f,a,ya,b,N)"
   ]
  },
  {
   "cell_type": "markdown",
   "metadata": {},
   "source": [
    "Computacionalmente ambos usan de promedio el mismo tiempo de ejecución con una diferencia de pocos micro segundos. Comparándo con los tiempos obtenidos en el apartado 1 se observa que para el menor número de N el tiempo de ejecución es un poco mayor el que hemos obtenido en Euler mejorado y en Euler modificado, para $N=25$ también sale un poco mayor aunque son prácticamente iguales, y para $N=50$ de nuevo sale computacionalmente más costoso Euler mejorado y Euler modificado, esta vez por una diferencia algo más notable, pero aun así pequeña. (Se ha obviado el tiempo de Euler implícito que es el peor de todos con diferencia en todos los casos de N).\n",
    "\n",
    "En lo que a la 0-estabilidad respecta ocurre como en los casos anteriores, son métodos de un paso donde $\\alpha_0=1$, luego son métodos 0-estables. "
   ]
  },
  {
   "cell_type": "markdown",
   "metadata": {},
   "source": [
    "**Nota importante:** en caso de necesitar una sóla iteración (o el valor $y_1$) del método que fuera entonces convendría adaptar los algoritmos anteriores, así como todos los que vienen a continuación, para que por ejemplo introducidos `(f,a,ya,b,N)` tan sólo calculen y devuelvan `Y[1]` o directamente `y1`, con el corespondiente ahorro de tiempo de cómputo. Ver ejemplo a continuación."
   ]
  },
  {
   "cell_type": "code",
   "execution_count": null,
   "metadata": {},
   "outputs": [],
   "source": [
    "%%file eulerexplrapido.py\n",
    "## módulo eulerexplrapido\n",
    "''' método de Euler para resolver el PVI\n",
    "    X,Y     = integrate(F,x0,y0,x1,h).\n",
    "    {y}'    = {F(x,{y})}, donde\n",
    "    {y}     = {y[0],y[1]}.\n",
    "    x0,y0   = condiciones iniciales \n",
    "    x1      = valor final de la variable x0 + h en este caso\n",
    "    h       = incremento de x usado para la integración\n",
    "    F       = función suplida por el usuario\n",
    "'''\n",
    "import numpy as np\n",
    "def integrate(F,x0,y0,h):    \n",
    "    return y0 + h*F(x0,y0)"
   ]
  },
  {
   "cell_type": "code",
   "execution_count": null,
   "metadata": {},
   "outputs": [],
   "source": [
    "import eulerexplrapido"
   ]
  },
  {
   "cell_type": "markdown",
   "metadata": {},
   "source": [
    "Habría una posibilidad de intentar estimar el tiempo de CPU empleado "
   ]
  },
  {
   "cell_type": "code",
   "execution_count": null,
   "metadata": {},
   "outputs": [],
   "source": [
    "import timeit"
   ]
  },
  {
   "cell_type": "code",
   "execution_count": null,
   "metadata": {},
   "outputs": [],
   "source": [
    "N = 10; h = (b-a)/N\n",
    "%time\n",
    "eulerexplrapido.integrate(f,a,ya,h)"
   ]
  },
  {
   "cell_type": "code",
   "execution_count": null,
   "metadata": {},
   "outputs": [],
   "source": [
    "%%timeit\n",
    "eulerexplrapido.integrate(f,a,ya,h)"
   ]
  },
  {
   "cell_type": "code",
   "execution_count": null,
   "metadata": {},
   "outputs": [],
   "source": [
    "%%timeit\n",
    "eulerexplicito.integrate(f,a,ya,b,N)"
   ]
  },
  {
   "cell_type": "code",
   "execution_count": null,
   "metadata": {},
   "outputs": [],
   "source": [
    "%%timeit\n",
    "eulerexplicito.integrate(f,a,ya,b,N)"
   ]
  },
  {
   "cell_type": "markdown",
   "metadata": {},
   "source": [
    "Al usar `%time` el intérprete de Python nos intenta devolver el tiempo empleado en la ejecución de dicho comando (o linea de comandos), pero esto suele depender muchas veces de la carga puntual de la CPU en ese justo momento de la ejecución; por ese motivo se suele preferir el uso del comando mágico `%%timeit` que lo que hace más bien es realizar una tanda de ejecuciones repetitivas de dicha linea o bloque de comandos, tantas veces como sea necesario para obtener un valor estimado promedio, que es el que nos devuelve seguidamente. Habrá que tener en cuenta en todo caso, tanto las unidades de medida del tiempo que nos devuelva (ya sea en  nano- ($10^{-9}$ s), micro- ($10^{-6}$ s), mili-segundos ($10^{-3}$ s), etc), como el número de veces que se ha llevado a cabo la tanda de repeticiones, que puede oscilar entre unos cientos o miles, hasta a veces un millón, para poder comparar finalmente de una manera realista la rapidez de ejecución de cierto trozo de código."
   ]
  },
  {
   "cell_type": "markdown",
   "metadata": {},
   "source": [
    "# Métodos de Taylor"
   ]
  },
  {
   "cell_type": "markdown",
   "metadata": {},
   "source": [
    "Como es bien sabido, los métodos de Taylor se basan en un adecuado desarrollo en serie de Taylor de la propia función incógnita $y(t)$, suponiendo que resulta ser suficientemente derivable, y que sus derivadas sucesivas se pueden obtener a partir de la función $f$ que determina la EDO que satisface: $$y'(t)=f(t,y(t)),\\; t\\in[a,b]$$\n",
    "\n",
    "Así pues, si suponemos que $y\\in\\mathcal{C}^p$ y que podemos realizar un desarrollo en serie como el que sigue:\n",
    "$$y(t+h)\\approx y(t)+h\\, y'(t)+\\frac{h^2}{2}\\, y''(t)+\\ldots+\\frac{h^p}{p!}\\, y^{p)}(t)\\\\ \\equiv y(t)+h\\, F_1(t,y(t))+\\frac{h^2}{2}\\, F_2(t,y(t))+\\ldots+\\frac{h^p}{p!}\\, F_p(t,y(t))$$\n",
    "\n",
    "pues justamente el conocido método de Euler explícito, visto anteriormente, correspondería con el desarrollo de Taylor correspondiente al caso $p=1$, definiendo por ejemplo $F_1(t,z)\\equiv f(t,z)$. \n",
    "\n",
    "Así pues vamos por ejemplo a centrarnos en desarrollar por ejemplo, el siguiente caso $p=2$, y los demás casos $p>2$ se harían de la misma manera, sólo que conllevarían la realización de más cálculos del mismo tipo.\n",
    "\n",
    "**Caso $p=2$:**\n",
    "Aquí de lo que se trataría es de aprovechar la expresión de la EDO que relaciona la derivada primera de $y(t)$ con $f(t,y(t))$, y realizar la derivada segunda de acuerdo con el siguiente desarrollo (asumiendo que $f\\equiv f(t,z)$):\n",
    "\n",
    "$$y''(t)=\\frac{d}{dt}y'(t)=\\frac{d}{dt}(f(t,y(t)))=\\frac{df}{dt}(t,y(t))+\\frac{df}{dz}(t,y(t))\\,y'(t) \\\\= \\frac{df}{dt}(t,y(t))+\\frac{df}{dz}(t,y(t))\\,f(t,y(t)) \\equiv F_2(t,y(t))$$\n",
    "\n",
    "de manera que finalmente nuestro métodos de Taylor de orden $p=2$ quedaría como sigue:\n",
    "\n",
    "$$y(t+h)\\approx y(t)+h\\,F_1(t,y(t)) +\\frac{h^2}{2}\\, F_2(t,y(t))$$\n",
    "\n",
    "con $F_1(t,z)\\equiv f(t,z)$  y $F_2(t,z)\\equiv \\frac{df}{dt}(t,z)+\\frac{df}{dz}(t,z)\\,f(t,z)$."
   ]
  },
  {
   "cell_type": "markdown",
   "metadata": {},
   "source": [
    "Vamos pues a intentar implementar este método de Taylor de orden $p=2$ aprovechando las capacidadesd de cálculo simbólico que también nos proporciona el módulo de cálculo simbólico de Python, SymPy."
   ]
  },
  {
   "cell_type": "code",
   "execution_count": null,
   "metadata": {},
   "outputs": [],
   "source": [
    "f(t,z), sp.diff(f(t,z),t), sp.diff(f(t,z),z)"
   ]
  },
  {
   "cell_type": "code",
   "execution_count": null,
   "metadata": {},
   "outputs": [],
   "source": [
    "def F1(t,z):\n",
    "    return f(t,z)\n",
    "\n",
    "def F2(t,z):\n",
    "    return sp.diff(f(t,z),t) + sp.diff(f(t,z),z)*F1(t,z)"
   ]
  },
  {
   "cell_type": "code",
   "execution_count": null,
   "metadata": {},
   "outputs": [],
   "source": [
    "F1(t,z), F2(t,z)"
   ]
  },
  {
   "cell_type": "code",
   "execution_count": null,
   "metadata": {},
   "outputs": [],
   "source": [
    "%%file Taylor2.py\n",
    "# -*- coding: UTF-8 -*-\n",
    "## módulo Taylor2\n",
    "''' método del método de Taylor de orden 2 para resolver el PVI\n",
    "    X,Y     = integrate(F,x0,y0,xfinal,N).\n",
    "    {y}'    = {F(x,{y})}, donde\n",
    "    {y}     = {y[0],y[1],...y[N-1]}.\n",
    "    x0,y0   = condiciones iniciales \n",
    "    xfinal  = valor final de la variable x\n",
    "    h       = incremento de x usado para la integración\n",
    "    F       = función suplida por el usuario que devuelve \n",
    "            el array F(x,y) = {y'[0],y'[1],...,y'[N-1]}.\n",
    "'''\n",
    "def integrate(F,x0,y0,xfinal,N):  \n",
    "    import numpy as np\n",
    "    import sympy as sp\n",
    "    \n",
    "    t, z = sp.symbols('t, z')\n",
    "    \n",
    "    X = np.linspace(x0,xfinal,N+1)\n",
    "    Y = [y0]; h = (xfinal-x0)/N\n",
    "    \n",
    "    def F1(t,z):\n",
    "        return F(t,z)\n",
    "\n",
    "    def F2(t,z):\n",
    "        return sp.diff(F(t,z),t) + sp.diff(F(t,z),z)*F1(t,z)\n",
    "    \n",
    "    for n in range(N):\n",
    "        Y.append(Y[n]+h*F1(X[n],Y[n])+h**2/2*F2(t,z).subs({t:X[n],z:Y[n]}))\n",
    "    return np.array(X),np.array(Y)"
   ]
  },
  {
   "cell_type": "code",
   "execution_count": null,
   "metadata": {},
   "outputs": [],
   "source": [
    "# %ls *.py"
   ]
  },
  {
   "cell_type": "code",
   "execution_count": null,
   "metadata": {},
   "outputs": [],
   "source": [
    "# usar 'cat' o 'more' en Linux o Mac OS \n",
    "# !type Taylor2.py"
   ]
  },
  {
   "cell_type": "code",
   "execution_count": null,
   "metadata": {},
   "outputs": [],
   "source": [
    "f(t,z)"
   ]
  },
  {
   "cell_type": "code",
   "execution_count": null,
   "metadata": {},
   "outputs": [],
   "source": [
    "import Taylor2"
   ]
  },
  {
   "cell_type": "code",
   "execution_count": null,
   "metadata": {},
   "outputs": [],
   "source": [
    "# Si posteriormente tuviéramos que volver a importarlo, con Pyhton 3\n",
    "# import importlib    # necesitaríamosimportar previamente este módulo\n",
    "# importlib.reload(Taylor2) #y ya podríamos cargarlo de nuevo cuando queramos\n",
    "# importlib.reload(eulerimplicito) # "
   ]
  },
  {
   "cell_type": "code",
   "execution_count": null,
   "metadata": {},
   "outputs": [],
   "source": [
    "f(t,z), sp.diff(f(t,z),t), sp.diff(f(t,z),z)"
   ]
  },
  {
   "cell_type": "code",
   "execution_count": null,
   "metadata": {},
   "outputs": [],
   "source": [
    "# Apliquemos pues ahora este algoritmo del método de Taylor de orden 2\n",
    "N=10;  # con un valor concreto de N\n",
    "xx, yTaylor2 = Taylor2.integrate(f,a,ya,b,N)\n",
    "# y asignémosle los arrays que devuelve a las abcisas y ordenadas"
   ]
  },
  {
   "cell_type": "code",
   "execution_count": null,
   "metadata": {},
   "outputs": [],
   "source": [
    "print(yTaylor2)"
   ]
  },
  {
   "cell_type": "code",
   "execution_count": null,
   "metadata": {},
   "outputs": [],
   "source": [
    "# que justo a continuación podremos dibujar y comparar con la sol. exacta\n",
    "fig, ax = plt.subplots(figsize=(8, 4))\n",
    "ax.plot(xx,yTaylor2, 'bo',label = \"aprox. mét. Taylor de orden 2\")\n",
    "ax.plot(xx, y_x(xx), label=\"sol. exacta\")\n",
    "ax.set_title(r\"Sol. exacta:  $y(t)=%s$\" % sp.latex(sol_exacta), fontsize=18)\n",
    "ax.set_xlabel(r\"$t$\", fontsize=18)\n",
    "ax.set_ylabel(r\"$y$\", fontsize=18)\n",
    "ax.legend()\n",
    "fig.tight_layout()\n",
    "graf_ptomedio = fig"
   ]
  },
  {
   "cell_type": "markdown",
   "metadata": {},
   "source": [
    "**Ejercicios:**\n",
    "1. Realice varios experimentos numéricos, con diferentes valores de $N$, y compare y ratifique los órdenes de convergencia de los diferentes métodos vistos hasta el momento.\n",
    " \n",
    "1. A partir de la implementación del algoritmo del método de Taylor de orden $p=2$, realice las modificaciones oportunas para obtener también una posible implementación correspondiente al método de Taylor de orden $p=3$."
   ]
  },
  {
   "cell_type": "markdown",
   "metadata": {},
   "source": [
    "**Apartado 1**"
   ]
  },
  {
   "cell_type": "code",
   "execution_count": null,
   "metadata": {},
   "outputs": [],
   "source": [
    "#1\n",
    "for i in [15,25,50]:\n",
    "    N=i\n",
    "    \n",
    "    xx, yTaylor2=Taylor2.integrate(f,a,ya,b,N)\n",
    "    \n",
    "    print(\"\\nAproximaciones para N=%n------------------------------------------------------------------------\", N)\n",
    "    print(\"\\nValores Aproximados por Taylor de orden 2-------------------------------------------------------\")\n",
    "    print(yTaylor2)\n",
    "    \n",
    "    valores_exactos = np.array([sol_exacta.subs({t:xx[n]}) for n in range(len(xx))])\n",
    "    print(\"\\nValores exactos---------------------------------------------------------------------------------\")\n",
    "    print(valores_exactos)\n",
    "    \n",
    "    print(\"\\nErrores Taylor de orden 2-----------------------------------------------------------------------\")\n",
    "    errores_Taylor2= valores_exactos-yTaylor2\n",
    "    print(abs(valores_exactos-yTaylor2))\n",
    "    \n",
    "    print(\"\\nError máximo Taylor de orden 2\")\n",
    "    print(abs(errores_Taylor2).max())\n",
    "    \n",
    "    #Por último dibujamos la comparativa de las tres\n",
    "    # que justo a continuación podremos dibujar y comparar con la sol. exacta\n",
    "    fig, ax = plt.subplots(figsize=(8, 4))\n",
    "    ax.plot(xx,yTaylor2, 'ro',label = \"aprox. mét. Taylor de orden 2\")\n",
    "    ax.plot(xx, y_x(xx), label=\"sol. exacta\")\n",
    "    ax.set_title(r\"Sol. exacta:  $y(t)=%s$\" % sp.latex(sol_exacta), fontsize=18)\n",
    "    ax.set_xlabel(r\"$t$\", fontsize=18)\n",
    "    ax.set_ylabel(r\"$y$\", fontsize=18)\n",
    "    ax.legend()\n",
    "    fig.tight_layout()\n",
    "    graf_Eulerimpl = fig"
   ]
  },
  {
   "cell_type": "markdown",
   "metadata": {},
   "source": [
    "Hemos repetido los experimentos realizados en el apartado 1 del ejercicio anterior. Y de nuevo los errores máximos son muy similares a los obtenidos por el método de Euler mejorado y el método de Euler modificado.\n",
    "\n",
    "**Apartado 2**"
   ]
  },
  {
   "cell_type": "code",
   "execution_count": null,
   "metadata": {},
   "outputs": [],
   "source": [
    "%%file Taylor3.py\n",
    "# -*- coding: UTF-8 -*-\n",
    "## módulo Taylor2\n",
    "''' método del método de Taylor de orden 2 para resolver el PVI\n",
    "    X,Y     = integrate(F,x0,y0,xfinal,N).\n",
    "    {y}'    = {F(x,{y})}, donde\n",
    "    {y}     = {y[0],y[1],...y[N-1]}.\n",
    "    x0,y0   = condiciones iniciales \n",
    "    xfinal  = valor final de la variable x\n",
    "    h       = incremento de x usado para la integración\n",
    "    F       = función suplida por el usuario que devuelve \n",
    "            el array F(x,y) = {y'[0],y'[1],...,y'[N-1]}.\n",
    "'''\n",
    "def integrate(F,x0,y0,xfinal,N):  \n",
    "    import numpy as np\n",
    "    import sympy as sp\n",
    "    \n",
    "    t, z = sp.symbols('t, z')\n",
    "    \n",
    "    X = np.linspace(x0,xfinal,N+1)\n",
    "    Y = [y0]; h = (xfinal-x0)/N\n",
    "    \n",
    "    def F1(t,z):\n",
    "        return F(t,z)\n",
    "\n",
    "    def F2(t,z):\n",
    "        return sp.diff(F(t,z),t) + sp.diff(F(t,z),z)*F1(t,z)\n",
    "    \n",
    "    def F3(t,z):\n",
    "        return sp.diff(F2(t,z),t) + sp.diff(F2(t,z),z)*F1(t,z)\n",
    "    \n",
    "    for n in range(N):\n",
    "        Y.append(Y[n]+h*F1(X[n],Y[n])+h**2/2*F2(t,z).subs({t:X[n],z:Y[n]})+h**3/6*F3(t,z).subs({t:X[n],z:Y[n]}))\n",
    "    return np.array(X),np.array(Y)\n"
   ]
  },
  {
   "cell_type": "code",
   "execution_count": null,
   "metadata": {},
   "outputs": [],
   "source": [
    "import Taylor3\n",
    "\n",
    "#1\n",
    "for i in [15,25,50]:\n",
    "    N=i\n",
    "    \n",
    "    xx, yTaylor3=Taylor3.integrate(f,a,ya,b,N)\n",
    "    \n",
    "    print(\"\\nAproximaciones para N=%n------------------------------------------------------------------------\", N)\n",
    "    print(\"\\nValores Aproximados por Taylor de orden 3-------------------------------------------------------\")\n",
    "    print(yTaylor3)\n",
    "    \n",
    "    valores_exactos = np.array([sol_exacta.subs({t:xx[n]}) for n in range(len(xx))])\n",
    "    print(\"\\nValores exactos---------------------------------------------------------------------------------\")\n",
    "    print(valores_exactos)\n",
    "    \n",
    "    print(\"\\nErrores Taylor de orden 3-----------------------------------------------------------------------\")\n",
    "    errores_Taylor3= valores_exactos-yTaylor3\n",
    "    print(abs(valores_exactos-yTaylor3))\n",
    "    \n",
    "    print(\"\\nError máximo Taylor de orden 3\")\n",
    "    print(abs(errores_Taylor3).max())\n",
    "    \n",
    "    #Por último dibujamos la comparativa de las tres\n",
    "    # que justo a continuación podremos dibujar y comparar con la sol. exacta\n",
    "    fig, ax = plt.subplots(figsize=(8, 4))\n",
    "    ax.plot(xx,yTaylor3, 'ro',label = \"aprox. mét. Taylor de orden 3\")\n",
    "    ax.plot(xx, y_x(xx), label=\"sol. exacta\")\n",
    "    ax.set_title(r\"Sol. exacta:  $y(t)=%s$\" % sp.latex(sol_exacta), fontsize=18)\n",
    "    ax.set_xlabel(r\"$t$\", fontsize=18)\n",
    "    ax.set_ylabel(r\"$y$\", fontsize=18)\n",
    "    ax.legend()\n",
    "    fig.tight_layout()\n",
    "    graf_Eulerimpl = fig"
   ]
  },
  {
   "cell_type": "markdown",
   "metadata": {},
   "source": [
    "Una vez más fijándonos en los errores obtenidos y en concreto en el error máximo obtenido se obtiene una clara mejora con respecto al método de Taylor de orden 2."
   ]
  },
  {
   "cell_type": "markdown",
   "metadata": {},
   "source": [
    "###### Métodos de Runge-Kutta"
   ]
  },
  {
   "cell_type": "markdown",
   "metadata": {},
   "source": [
    "## Runge-Kutta de orden 4"
   ]
  },
  {
   "cell_type": "code",
   "execution_count": null,
   "metadata": {},
   "outputs": [],
   "source": [
    "%%file RK4.py\n",
    "## módulo RK4\n",
    "''' Método de Runge-Kutta de cuarto orden para resolver\n",
    "    el problema de valores iniciales {y}' = {F(x,{y})}, \n",
    "    donde    {y} = {y[0],y[1],...y[N-1]}.\n",
    "    X,Y    = integrate(F,x0,y0,xfinal,h).\n",
    "    x0,y0  = condiciones iniciales\n",
    "    xfinal = valor final de x\n",
    "    N      = número de subintervalos de la partición\n",
    "    h      = incremento de x usado en la integración\n",
    "    F      = función suplida por el usuario que devuelve el\n",
    "            array F(x,y) = {y'[0],y'[1],...,y'[N-1]}.\n",
    "'''\n",
    "import numpy as np\n",
    "def integrate(F,x0,y0,xfinal,N):\n",
    "    \n",
    "    def RK4(F,xn,yn,h):\n",
    "        K1 = F(xn,yn)\n",
    "        K2 = F(xn + h/2, yn + K1*h/2)\n",
    "        K3 = F(xn + h/2, yn + K2*h/2)\n",
    "        K4 = F(xn + h  , yn + K3*h)\n",
    "        return (K1 + 2*K2 + 2*K3 + K4)/6    \n",
    "    \n",
    "    X = np.linspace(x0,xfinal,N+1)\n",
    "    Y = [y0]; h = (xfinal-x0)/N\n",
    "    for n in range(N):\n",
    "        Y.append( Y[n] + h*RK4(F,X[n],Y[n],h) )\n",
    "    return np.array(X),np.array(Y)"
   ]
  },
  {
   "cell_type": "code",
   "execution_count": null,
   "metadata": {},
   "outputs": [],
   "source": [
    "import RK4\n",
    "# importlib.reload(RK4)"
   ]
  },
  {
   "cell_type": "code",
   "execution_count": null,
   "metadata": {},
   "outputs": [],
   "source": [
    "# Apliquemos pues ahora este algoritmo del método de Euler\n",
    "N=10;  # con un valor concreto de n\n",
    "xx, yRK4 = RK4.integrate(f,a,ya,b,N)\n",
    "# y asignémosle los arrays que devuelve a las abcisas y ordenadas"
   ]
  },
  {
   "cell_type": "code",
   "execution_count": null,
   "metadata": {},
   "outputs": [],
   "source": [
    "# que justo a continuación podremos dibujar y comparar con la sol. exacta\n",
    "fig, ax = plt.subplots(figsize=(8, 4))\n",
    "ax.plot(xx,yRK4, 'bo',label = \"aprox. mét. RK4\")\n",
    "ax.plot(xx, y_x(xx), label=\"sol. exacta\")\n",
    "ax.set_title(r\"Sol. exacta:  $y(t)=%s$\" % sp.latex(sol_exacta), fontsize=18)\n",
    "ax.set_xlabel(r\"$t$\", fontsize=18)\n",
    "ax.set_ylabel(r\"$y$\", fontsize=18)\n",
    "ax.legend()\n",
    "fig.tight_layout()\n",
    "graf_RK4 = fig"
   ]
  },
  {
   "cell_type": "markdown",
   "metadata": {},
   "source": [
    "**Ejercicios:**\n",
    "1. Repita las aproximaciones anteriores con diferentes valores de $N$ (y por tanto de $h$) y compruebe el efecto en cuanto a mayor o menor precisión, estabilidad y coste computacional \n",
    "1. A partir de la implementación del algoritmo del método de Runge-Kutta de 4 evaluaciones, realice las modificaciones oportunas para intentar obtener también las implementaciones correspondientes a otros muchos métodos de tipo Runge-Kutta, tanto explícitos como implícitos, a partir del correspondiente arreglo de Butcher."
   ]
  },
  {
   "cell_type": "markdown",
   "metadata": {},
   "source": [
    "**Apartado 1**"
   ]
  },
  {
   "cell_type": "code",
   "execution_count": null,
   "metadata": {},
   "outputs": [],
   "source": [
    "for i in [15,25,50]:\n",
    "    N=i\n",
    "    \n",
    "    xx, yRK4 = RK4.integrate(f,a,ya,b,N)\n",
    "    print(\"\\nAproximaciones para N=\",i,\"---------------------------------------------------------------------\")\n",
    "    print(\"\\nValores Aproximados por Runge-Kutta 4-----------------------------------------------------------\")\n",
    "    print(yRK4)\n",
    "    \n",
    "    valores_exactos = np.array([sol_exacta.subs({t:xx[n]}) for n in range(len(xx))])\n",
    "    print(\"\\nValores exactos---------------------------------------------------------------------------------\")\n",
    "    print(valores_exactos)\n",
    "    \n",
    "    print(\"\\nErrores Runge-Kutta 4-----------------------------------------------------------------------\")\n",
    "    errores_RK4= valores_exactos-yRK4\n",
    "    print(abs(valores_exactos-yRK4))\n",
    "    \n",
    "    print(\"\\nError máximo Taylor de orden 3\")\n",
    "    print(abs(errores_RK4).max())\n",
    "    \n",
    "    #Por último dibujamos la comparativa de las tres\n",
    "    # que justo a continuación podremos dibujar y comparar con la sol. exacta\n",
    "    fig, ax = plt.subplots(figsize=(8, 4))\n",
    "    ax.plot(xx,yRK4, 'ro',label = \"aprox. mét. Runge-Kutta clásico\")\n",
    "    ax.plot(xx, y_x(xx), label=\"sol. exacta\")\n",
    "    ax.set_title(r\"Sol. exacta:  $y(t)=%s$\" % sp.latex(sol_exacta), fontsize=18)\n",
    "    ax.set_xlabel(r\"$t$\", fontsize=18)\n",
    "    ax.set_ylabel(r\"$y$\", fontsize=18)\n",
    "    ax.legend()\n",
    "    fig.tight_layout()\n",
    "    graf_Eulerimpl = fig\n",
    "    "
   ]
  },
  {
   "cell_type": "markdown",
   "metadata": {},
   "source": [
    "Realizando las comparaciones con el mismo número de nodos que hemos usado anteriormente vemos que el error obtenido es el mejor entre todos los métodos hasta ahora programados."
   ]
  },
  {
   "cell_type": "code",
   "execution_count": null,
   "metadata": {},
   "outputs": [],
   "source": [
    "import timeit\n",
    "\n",
    "N=15"
   ]
  },
  {
   "cell_type": "code",
   "execution_count": null,
   "metadata": {},
   "outputs": [],
   "source": [
    "%%timeit\n",
    "RK4.integrate(f,a,ya,b,N)"
   ]
  },
  {
   "cell_type": "code",
   "execution_count": null,
   "metadata": {},
   "outputs": [],
   "source": [
    "N=25"
   ]
  },
  {
   "cell_type": "code",
   "execution_count": null,
   "metadata": {},
   "outputs": [],
   "source": [
    "%%timeit\n",
    "RK4.integrate(f,a,ya,b,N)"
   ]
  },
  {
   "cell_type": "code",
   "execution_count": null,
   "metadata": {},
   "outputs": [],
   "source": [
    "N=50"
   ]
  },
  {
   "cell_type": "code",
   "execution_count": null,
   "metadata": {},
   "outputs": [],
   "source": [
    "%%timeit\n",
    "RK4.integrate(f,a,ya,b,N)"
   ]
  },
  {
   "cell_type": "markdown",
   "metadata": {},
   "source": [
    "Fijandonos en los tiempos devueltos se observa un coste computacional un poco mayor que los observados para Euler modificado y para Euler mejorado (no pongo exactamente cuanto peor es, pues puede variar ligeramente según la ejecución y la máquina en la que se ejecute)."
   ]
  },
  {
   "cell_type": "markdown",
   "metadata": {},
   "source": [
    "**Apartado 2**"
   ]
  },
  {
   "cell_type": "code",
   "execution_count": null,
   "metadata": {},
   "outputs": [],
   "source": [
    "%%file RK_general.py\n",
    "## módulo RK4\n",
    "''' Método de Runge-Kutta de cuarto orden para resolver\n",
    "    el problema de valores iniciales {y}' = {F(x,{y})}, \n",
    "    donde    {y} = {y[0],y[1],...y[N-1]}.\n",
    "    X,Y    = integrate(F,x0,y0,xfinal,h).\n",
    "    x0,y0  = condiciones iniciales\n",
    "    xfinal = valor final de x\n",
    "    N      = número de subintervalos de la partición\n",
    "    h      = incremento de x usado en la integración\n",
    "    F      = función suplida por el usuario que devuelve el\n",
    "            array F(x,y) = {y'[0],y'[1],...,y'[N-1]}.\n",
    "    butcher = arreglo de Butcher\n",
    "    b      = vector de números tal que b_1+b_2+...+b_m=1 donde m es el número de columnas del arreglo de Butcher\n",
    "             así obtenemos un método consistente\n",
    "'''\n",
    "import numpy as np\n",
    "def integrate(F,x0,y0,xfinal,N,butcher,b):\n",
    "    aux=0\n",
    "    c=[]\n",
    "    \n",
    "    for i in range(len(butcher)):\n",
    "        for j in range(len(butcher[i])):\n",
    "            aux += butcher[i][j]\n",
    "        \n",
    "        c.append(aux)\n",
    "        aux=0\n",
    "    \n",
    "    \n",
    "    def RK(F,xn,yn,h,c,butcher,b):\n",
    "        aux=0\n",
    "        K=[]\n",
    "        salida=0\n",
    "        \n",
    "        for i in range(len(c)):\n",
    "            K.append(0)\n",
    "        \n",
    "        for i in range(len(c)):\n",
    "            for j in range(len(c)):\n",
    "                aux+=butcher[i][j]*K[j]\n",
    "                \n",
    "            K[i]=F(xn + h*c[i], yn + h*aux)\n",
    "            aux=0\n",
    "            \n",
    "        for i in range(len(K)):\n",
    "            salida+=b[i]*K[i]\n",
    "        \n",
    "        return salida     \n",
    "    \n",
    "    X = np.linspace(x0,xfinal,N+1)\n",
    "    Y = [y0]; h = (xfinal-x0)/N\n",
    "    for n in range(N):\n",
    "        Y.append( Y[n] + h*RK(F,X[n],Y[n],h,c,butcher,b) )\n",
    "    return np.array(X),np.array(Y)"
   ]
  },
  {
   "cell_type": "code",
   "execution_count": null,
   "metadata": {},
   "outputs": [],
   "source": [
    "coef=[1/6,2/6,2/6,1/6]\n",
    "Butcher=[[0,0,0,0],[1/2,0,0,0],[0,1/2,0,0],[0,0,1,0]]\n",
    "\n",
    "import RK_general\n",
    "\n",
    "for i in [15,25,50]:\n",
    "    N=i\n",
    "    \n",
    "    xx, yRK = RK_general.integrate(f,a,ya,b,N,Butcher,coef)\n",
    "    print(\"\\nAproximaciones para N=\",i,\"---------------------------------------------------------------------\")\n",
    "    print(\"\\nValores Aproximados por Runge-Kutta general-----------------------------------------------------\")\n",
    "    print(yRK)\n",
    "    \n",
    "    valores_exactos = np.array([sol_exacta.subs({t:xx[n]}) for n in range(len(xx))])\n",
    "    print(\"\\nValores exactos---------------------------------------------------------------------------------\")\n",
    "    print(valores_exactos)\n",
    "    \n",
    "    print(\"\\nErrores Runge-Kutta general---------------------------------------------------------------------\")\n",
    "    errores_RK= valores_exactos-yRK\n",
    "    print(abs(valores_exactos-yRK))\n",
    "    \n",
    "    print(\"\\nError máximo Runge-Kutta general\")\n",
    "    print(abs(errores_RK).max())\n",
    "    \n",
    "    #Por último dibujamos la comparativa de las tres\n",
    "    # que justo a continuación podremos dibujar y comparar con la sol. exacta\n",
    "    fig, ax = plt.subplots(figsize=(8, 4))\n",
    "    ax.plot(xx,yRK, 'ro',label = \"aprox. mét. Runge-Kutta general\")\n",
    "    ax.plot(xx, y_x(xx), label=\"sol. exacta\")\n",
    "    ax.set_title(r\"Sol. exacta:  $y(t)=%s$\" % sp.latex(sol_exacta), fontsize=18)\n",
    "    ax.set_xlabel(r\"$t$\", fontsize=18)\n",
    "    ax.set_ylabel(r\"$y$\", fontsize=18)\n",
    "    ax.legend()\n",
    "    fig.tight_layout()\n",
    "    graf_Eulerimpl = fig"
   ]
  },
  {
   "cell_type": "markdown",
   "metadata": {},
   "source": [
    "He calculado el arreglo de Butcher para Runge-Kutta clásico y los valores de $b_i$ y al pasárselos al método que he programado me devuelve los mismo errores máximo y unas gráficas exactamente iguales. "
   ]
  },
  {
   "cell_type": "markdown",
   "metadata": {},
   "source": [
    "# Métodos Multipaso Lineales (MML)"
   ]
  },
  {
   "cell_type": "markdown",
   "metadata": {},
   "source": [
    "Recordamos que un método multipaso para el PVI considerado en esta práctica, tendría la siguiente forma:\n",
    "$$\n",
    "y_0, y_1, \\ldots, y_{k-1} \\text{ valores iniciales de partida}\\\\\n",
    "y_{n+k} = \\sum_{j=0}^{k-1} \\alpha_j \\, y_{n+j} + h\\, \\Phi(y_{n+k}, y_{n+k-1}, \\ldots, y_{n};\\, t_n,\\, h)\n",
    "$$\n",
    "donde la función $\\Phi$ cumple una condición de Lipschitz adecuada."
   ]
  },
  {
   "cell_type": "markdown",
   "metadata": {},
   "source": [
    "## MML basados en cuadraturas"
   ]
  },
  {
   "cell_type": "markdown",
   "metadata": {},
   "source": [
    "Usando las fórmulas clásicas habituales de integración numérica, de tipo interpolatorio, podríamos diseñar innumerables nuevos métodos de resolución numérica de problemas de PVI de tipo MML, partiendo de que la ecuación diferencial de partida $y'(t)=f(t,y(t))$ se puede expresar también de forma equivalente, como \n",
    "$$y(\\tau_2)-y(\\tau_1)=\\int_{\\tau_1}^{\\tau_2} f(s,y(s))\\, ds, \\; \\forall \\tau_1, \\, \\tau_2 \\in [a,b],$$ \n",
    "entonces podremos también escribir, $\\forall 1\\leq q \\leq k$, notando $f_j\\equiv f(t_j,y_j)$,\n",
    "$$y(t_{n+k}) = y(t_{n+k-q}) + \\int_{t_{n+k-q}}^{t_{n+k}} f(s,y(s))\\, ds \\\\\n",
    "\\approx  y(t_{n+k-q}) + h\\, \\sum_{j=m}^{k-r} \\beta_j \\, f_{n+j}\n",
    "$$\n",
    "que será implícito si $r=0$, y explícito en cualquier otro caso.\n",
    "\n",
    "Dependiendo ahora de los valores de $q,\\, m, \\, r$ surgen algunas conocidas familias de métodos, que revisaremos a continuación."
   ]
  },
  {
   "cell_type": "markdown",
   "metadata": {},
   "source": [
    "## Métodos de tipo Adams"
   ]
  },
  {
   "cell_type": "markdown",
   "metadata": {},
   "source": [
    "Son aquellos con $q=1$, y por tanto $m=0$; y se podrían expresar como sigue:\n",
    "\n",
    "$$ y_{n+k} = y_{n+k-1} + h\\, (\\beta_0\\, f_n + \\ldots + \\beta_{k-r}\\, f_{n+k-r})\n",
    "$$"
   ]
  },
  {
   "cell_type": "markdown",
   "metadata": {},
   "source": [
    "### Métodos de tipo Adams-Bashforth (AB)"
   ]
  },
  {
   "cell_type": "markdown",
   "metadata": {},
   "source": [
    "Son métodos de tipo Adams explícitos, con exactitud máxima, y valores $q=1,\\, m=0,\\, r=1$.\n",
    "\n",
    "Por ejemplo, \n",
    "- con $k=1$ tendríamos de nuevo el método de Euler: $y_{n+1} = y_{n} + h\\, f_n$\n",
    "- y con $k=2$: $y_{n+2} = y_{n+1} + \\frac{h}{2} (3 f_{n+1} - f_{n})$"
   ]
  },
  {
   "cell_type": "code",
   "execution_count": null,
   "metadata": {},
   "outputs": [],
   "source": [
    "%%file AdamBashforth2.py\n",
    "## módulo AB2\n",
    "''' Método de Adams-Bashforth (con k = 2) para resolver\n",
    "    el problema de valores iniciales {y}' = {F(x,{y})}, \n",
    "    donde    {y} = {y[0],y[1],...y[N-1]}.\n",
    "    X,Y    = integrate(F,x0,y0,xfinal,N).\n",
    "    x0,y0  = condiciones iniciales\n",
    "    xfinal = valor final de x\n",
    "    N      = número de subintervalos de la partición\n",
    "    h      = incremento de x usado en la integración\n",
    "    F      = función suplida por el usuario que devuelve el\n",
    "            array F(x,y) = {y'[0],y'[1],...,y'[N-1]}.\n",
    "'''\n",
    "\n",
    "def integrate(F,x0,y0,xfinal,N):\n",
    "    \n",
    "    import numpy as np\n",
    "    \n",
    "    def AB2(F,x0,y0,y1,h):\n",
    "        return (3*F(x0+h,y1)-F(x0,y0))/2    \n",
    "    \n",
    "    X = np.linspace(x0,xfinal,N+1)\n",
    "    h = (xfinal-x0)/N\n",
    "    y1 = y0 + h*F(x0,y0); Y = [y0,y1]\n",
    "    for n in range(N-1):\n",
    "        Y.append(Y[n+1] + h*AB2(F,X[n],Y[n],Y[n+1],h))\n",
    "    return np.array(X),np.array(Y)"
   ]
  },
  {
   "cell_type": "code",
   "execution_count": null,
   "metadata": {},
   "outputs": [],
   "source": [
    "import AdamBashforth2"
   ]
  },
  {
   "cell_type": "code",
   "execution_count": null,
   "metadata": {},
   "outputs": [],
   "source": [
    "# Si posteriormente tuviéramos que volver a importarlo, con Pyhton 3\n",
    "# import importlib    # necesitaríamosimportar previamente este módulo\n",
    "# importlib.reload(AdamBashforth2) #y ya podríamos cargarlo de nuevo cuando queramos\n",
    "# importlib.reload(eulerimplicito) # "
   ]
  },
  {
   "cell_type": "code",
   "execution_count": null,
   "metadata": {},
   "outputs": [],
   "source": [
    "# Apliquemos pues ahora este algoritmo del método de Euler\n",
    "N=10;  # con un valor concreto de n\n",
    "xx, yAB2 = AdamBashforth2.integrate(f,a,ya,b,N)\n",
    "# y asignémosle los arrays que devuelve a las abcisas y ordenadas"
   ]
  },
  {
   "cell_type": "code",
   "execution_count": null,
   "metadata": {},
   "outputs": [],
   "source": [
    "# que justo a continuación podremos dibujar y comparar con la sol. exacta\n",
    "fig, ax = plt.subplots(figsize=(8, 4))\n",
    "ax.plot(xx,yAB2, 'bo',label = \"aprox. mét. AB2\")\n",
    "ax.plot(xx, y_x(xx), label=\"sol. exacta\")\n",
    "ax.set_title(r\"Sol. exacta:  $y(t)=%s$\" % sp.latex(sol_exacta), fontsize=18)\n",
    "ax.set_xlabel(r\"$t$\", fontsize=18)\n",
    "ax.set_ylabel(r\"$y$\", fontsize=18)\n",
    "ax.legend()\n",
    "fig.tight_layout()\n",
    "graf_AB2 = fig"
   ]
  },
  {
   "cell_type": "markdown",
   "metadata": {},
   "source": [
    "**Ejercicios:**\n",
    "1. A partir de la implementación del algoritmo del método de Adams-Bashforth anterior, realice las modificaciones oportunas para intentar obtener también las implementaciones correspondientes a otros muchos métodos de tipo Adams, como Adams-Moulton (AM), Milne-Simpson, Nyström y/o Newton-Cotes."
   ]
  },
  {
   "cell_type": "markdown",
   "metadata": {},
   "source": [
    "## Métodos Predictor-Corrector"
   ]
  },
  {
   "cell_type": "markdown",
   "metadata": {},
   "source": [
    "### Método de Adams-Bashforth-Moulton de orden 5"
   ]
  },
  {
   "cell_type": "markdown",
   "metadata": {},
   "source": [
    "Implementaremos a continuación un método MML Predictor-Corrector particular, combinando un predictor AB de 5 pasos con un corrector AM de 4, y aplicadon una sólo corrección en cada iteración:\n",
    "\n",
    "P: $y_{n+5}^{(0)} = y_{n+4} + \\frac{h}{720} (1901 f_{n+4} -2774 f_{n+3} +2616 f_{n+2} - 1274 f_{n+1} + 251 f_n)$\n",
    "\n",
    "C$^1$: $y_{n+5} = y_{n+4} + \\frac{h}{720} (251 f(t_{n+5},y_{n+5}^{(0)}) + 646 f_{n+4} -264 f_{n+3} +106 f_{n+2} - 19 f_{n+1}$ "
   ]
  },
  {
   "cell_type": "markdown",
   "metadata": {},
   "source": [
    "**Ejercicios:**\n",
    "1. Intente la implementación del algoritmo de tipo Predictor-Corrector anterior, o cualquier otro adecuado, eligiendo convenientemente los otros métodos necesarios para proporcionar los valores previos necesarios."
   ]
  },
  {
   "cell_type": "markdown",
   "metadata": {},
   "source": [
    "## Integración Numerica de EDOs y sistemas de Ecs. Diferenciales usando SciPy  (Opcional)"
   ]
  },
  {
   "cell_type": "code",
   "execution_count": null,
   "metadata": {},
   "outputs": [],
   "source": [
    "from scipy import integrate"
   ]
  },
  {
   "cell_type": "code",
   "execution_count": null,
   "metadata": {},
   "outputs": [],
   "source": [
    "%matplotlib inline\n",
    "# %config InlineBackend.figure_format='retina'\n",
    "import matplotlib.pyplot as plt\n",
    "# import matplotlib as mpl\n",
    "# mpl.rcParams['text.usetex'] = True"
   ]
  },
  {
   "cell_type": "code",
   "execution_count": null,
   "metadata": {},
   "outputs": [],
   "source": [
    "import numpy as np\n",
    "import sympy as sp\n",
    "sp.init_printing()"
   ]
  },
  {
   "cell_type": "code",
   "execution_count": null,
   "metadata": {},
   "outputs": [],
   "source": [
    "x = sp.symbols(\"x\")"
   ]
  },
  {
   "cell_type": "code",
   "execution_count": null,
   "metadata": {},
   "outputs": [],
   "source": [
    "y = sp.Function(\"y\")"
   ]
  },
  {
   "cell_type": "code",
   "execution_count": null,
   "metadata": {},
   "outputs": [],
   "source": [
    "f = y(x)**2 + x"
   ]
  },
  {
   "cell_type": "code",
   "execution_count": null,
   "metadata": {},
   "outputs": [],
   "source": [
    "f_np = sp.lambdify((y(x), x), f, 'math')"
   ]
  },
  {
   "cell_type": "code",
   "execution_count": null,
   "metadata": {},
   "outputs": [],
   "source": [
    "y0 = 0"
   ]
  },
  {
   "cell_type": "code",
   "execution_count": null,
   "metadata": {},
   "outputs": [],
   "source": [
    "xp = np.linspace(0, 1.9, 100)"
   ]
  },
  {
   "cell_type": "code",
   "execution_count": null,
   "metadata": {},
   "outputs": [],
   "source": [
    "xp.shape"
   ]
  },
  {
   "cell_type": "code",
   "execution_count": null,
   "metadata": {},
   "outputs": [],
   "source": [
    "yp = integrate.odeint(f_np, y0, xp)"
   ]
  },
  {
   "cell_type": "code",
   "execution_count": null,
   "metadata": {},
   "outputs": [],
   "source": [
    "xm = np.linspace(0, -5, 100)"
   ]
  },
  {
   "cell_type": "code",
   "execution_count": null,
   "metadata": {},
   "outputs": [],
   "source": [
    "ym = integrate.odeint(f_np, y0, xm)"
   ]
  },
  {
   "cell_type": "code",
   "execution_count": null,
   "metadata": {},
   "outputs": [],
   "source": [
    "def plot_direction_field(x, y_x, f_xy, x_lim=(-5, 5), y_lim=(-5, 5), ax=None):\n",
    "    \n",
    "    f_np = sp.lambdify((x, y_x), f_xy, 'numpy')\n",
    "    \n",
    "    x_vec = np.linspace(x_lim[0], x_lim[1], 20)\n",
    "    y_vec = np.linspace(y_lim[0], y_lim[1], 20)\n",
    "    \n",
    "    if ax is None:\n",
    "        _, ax = plt.subplots(figsize=(4, 4))\n",
    "\n",
    "    dx = x_vec[1] - x_vec[0]\n",
    "    dy = y_vec[1] - y_vec[0]\n",
    "\n",
    "    for m, xx in enumerate(x_vec):\n",
    "        for n, yy in enumerate(y_vec):\n",
    "            Dy = f_np(xx, yy) * dx\n",
    "            Dx = 0.8 * dx**2 / np.sqrt(dx**2 + Dy**2)\n",
    "            Dy = 0.8 * Dy*dy / np.sqrt(dx**2 + Dy**2)\n",
    "            ax.plot([xx - Dx/2, xx + Dx/2],\n",
    "                    [yy - Dy/2, yy + Dy/2], 'b', lw=0.5)\n",
    "    ax.axis('tight')"
   ]
  },
  {
   "cell_type": "code",
   "execution_count": null,
   "metadata": {},
   "outputs": [],
   "source": [
    "fig, ax = plt.subplots(1, 1, figsize=(4, 4))\n",
    "plot_direction_field(x, y(x), f, ax=ax)\n",
    "ax.plot(xm, ym, 'b', lw=2)\n",
    "ax.plot(xp, yp, 'r', lw=2);\n",
    "# fig.savefig('odeint-ejemplo-ec-escalar.pdf')"
   ]
  },
  {
   "cell_type": "markdown",
   "metadata": {},
   "source": [
    "## Ecuaciones de Lotka-Volterra para poblaciones de tipo presa/predador\n",
    "\n",
    "$$\n",
    "x'(t) = a x - b x y\n",
    "$$\n",
    "\n",
    "$$\n",
    "y'(t) = c x y - d y\n",
    "$$"
   ]
  },
  {
   "cell_type": "code",
   "execution_count": null,
   "metadata": {},
   "outputs": [],
   "source": [
    "a, b, c, d = 0.4, 0.002, 0.001, 0.7"
   ]
  },
  {
   "cell_type": "code",
   "execution_count": null,
   "metadata": {},
   "outputs": [],
   "source": [
    "def f(xy, t):\n",
    "    x, y = xy\n",
    "    return [a * x - b * x * y,\n",
    "            c * x * y - d * y]"
   ]
  },
  {
   "cell_type": "code",
   "execution_count": null,
   "metadata": {},
   "outputs": [],
   "source": [
    "xy0 = [600, 400]"
   ]
  },
  {
   "cell_type": "code",
   "execution_count": null,
   "metadata": {},
   "outputs": [],
   "source": [
    "t = np.linspace(0, 50, 250)"
   ]
  },
  {
   "cell_type": "code",
   "execution_count": null,
   "metadata": {},
   "outputs": [],
   "source": [
    "xy_t = integrate.odeint(f, xy0, t)"
   ]
  },
  {
   "cell_type": "code",
   "execution_count": null,
   "metadata": {},
   "outputs": [],
   "source": [
    "xy_t.shape"
   ]
  },
  {
   "cell_type": "code",
   "execution_count": null,
   "metadata": {},
   "outputs": [],
   "source": [
    "fig, axes = plt.subplots(1, 2, figsize=(8, 4))\n",
    "\n",
    "axes[0].plot(t, xy_t[:,0], 'r', label=\"Presa\")\n",
    "axes[0].plot(t, xy_t[:,1], 'b', label=\"Predador\")\n",
    "axes[0].set_xlabel(\"Tiempo\")\n",
    "axes[0].set_ylabel(\"Numero de animales\")\n",
    "axes[0].legend()\n",
    "\n",
    "axes[1].plot(xy_t[:,0], xy_t[:,1], 'k')\n",
    "axes[1].set_xlabel(\"Numero de presas\")\n",
    "axes[1].set_ylabel(\"Numero de predadores\")\n",
    "fig.tight_layout()\n",
    "fig.savefig('cap9-lokta-volterra.pdf')"
   ]
  },
  {
   "cell_type": "markdown",
   "metadata": {},
   "source": [
    "## Ecuaciones de Lorenz"
   ]
  },
  {
   "cell_type": "markdown",
   "metadata": {},
   "source": [
    "$$\n",
    "x'(t) = \\sigma(y - x)\n",
    "$$\n",
    "$$\n",
    "y'(t) = x(\\rho - z) - y \n",
    "$$\n",
    "$$\n",
    "z'(t) = x y - \\beta z\n",
    "$$"
   ]
  },
  {
   "cell_type": "code",
   "execution_count": null,
   "metadata": {},
   "outputs": [],
   "source": [
    "def f(xyz, t, rho, sigma, beta):\n",
    "    x, y, z = xyz\n",
    "    return [sigma * (y - x),\n",
    "            x * (rho - z) - y,\n",
    "            x * y - beta * z]"
   ]
  },
  {
   "cell_type": "code",
   "execution_count": null,
   "metadata": {},
   "outputs": [],
   "source": [
    "rho = 28\n",
    "sigma = 8\n",
    "beta = 8/3.0"
   ]
  },
  {
   "cell_type": "code",
   "execution_count": null,
   "metadata": {},
   "outputs": [],
   "source": [
    "t = np.linspace(0, 25, 10000)"
   ]
  },
  {
   "cell_type": "code",
   "execution_count": null,
   "metadata": {},
   "outputs": [],
   "source": [
    "xyz0 = [1.0, 1.0, 1.0]"
   ]
  },
  {
   "cell_type": "code",
   "execution_count": null,
   "metadata": {},
   "outputs": [],
   "source": [
    "xyz1 = integrate.odeint(f, xyz0, t, args=(rho, sigma, beta))"
   ]
  },
  {
   "cell_type": "code",
   "execution_count": null,
   "metadata": {},
   "outputs": [],
   "source": [
    "xyz2 = integrate.odeint(f, xyz0, t, args=(rho, sigma, 0.6*beta))"
   ]
  },
  {
   "cell_type": "code",
   "execution_count": null,
   "metadata": {},
   "outputs": [],
   "source": [
    "xyz3 = integrate.odeint(f, xyz0, t, args=(rho, 2*sigma, 0.6*beta))"
   ]
  },
  {
   "cell_type": "code",
   "execution_count": null,
   "metadata": {},
   "outputs": [],
   "source": [
    "xyz3.shape"
   ]
  },
  {
   "cell_type": "code",
   "execution_count": null,
   "metadata": {},
   "outputs": [],
   "source": [
    "from mpl_toolkits.mplot3d.axes3d import Axes3D"
   ]
  },
  {
   "cell_type": "code",
   "execution_count": null,
   "metadata": {},
   "outputs": [],
   "source": [
    "fig, (ax1, ax2, ax3) = plt.subplots(1, 3, figsize=(12, 3.5), subplot_kw={'projection': '3d'})\n",
    "\n",
    "for ax, xyz, c in [(ax1, xyz1, 'r'), (ax2, xyz2, 'b'), (ax3, xyz3, 'g')]:\n",
    "    ax.plot(xyz[:,0], xyz[:,1], xyz[:,2], c, alpha=0.5)\n",
    "    ax.set_xlabel('$x$', fontsize=16)\n",
    "    ax.set_ylabel('$y$', fontsize=16)\n",
    "    ax.set_zlabel('$z$', fontsize=16)\n",
    "    ax.set_xticks([-15, 0, 15])\n",
    "    ax.set_yticks([-20, 0, 20])\n",
    "    ax.set_zticks([0, 20, 40])\n",
    "\n",
    "fig.tight_layout()\n",
    "fig.savefig('cap9-ecuaciones_Lorentz.pdf')"
   ]
  },
  {
   "cell_type": "markdown",
   "metadata": {},
   "source": [
    "## Muelles acoplados y amortigüados"
   ]
  },
  {
   "cell_type": "markdown",
   "metadata": {},
   "source": [
    "Como ecuaciones de segundo orden:\n",
    "\n",
    "\\begin{eqnarray}\n",
    "m_1 x_1''(t) + \\gamma_1 x_1'(t) + k_1 (x_1(t) - l_1) - k_2 (x_2(t) - x_1(t) - l_2) &=& 0\\\\\n",
    "m_2 x_2''(t) + \\gamma_2 x_2' + k_2 (x_2 - x_1 - l_2) &=& 0\n",
    "\\end{eqnarray}\n",
    "\n",
    "O de forma estándard:\n",
    "\n",
    "\\begin{align}\n",
    "y_1'(t) &= y_2(t) \\\\\n",
    "y_2'(t) &= -\\gamma_1/m_1 y_2(t) - k_1/m_1 (y_1(t) - l_1) + k_2 (y_3(t) - y_1(t) - l_2)/m_1 \\\\\n",
    "y_3'(t) &= y_4(t) \\\\\n",
    "y_4'(t) &= - \\gamma_2 y_4(t)/m_2 - k_2 (y_3(t) - y_1(t) - l_2)/m_2 \\\\\n",
    "\\end{align}"
   ]
  },
  {
   "cell_type": "code",
   "execution_count": null,
   "metadata": {},
   "outputs": [],
   "source": [
    "def f(t, y, args):\n",
    "    m1, k1, g1, m2, k2, g2 = args\n",
    "    \n",
    "    return [y[1], \n",
    "            - k1/m1 * y[0] + k2/m1 * (y[2] - y[0]) - g1/m1 * y[1], \n",
    "            y[3], \n",
    "            - k2/m2 * (y[2] - y[0]) - g2/m2 * y[3] ]"
   ]
  },
  {
   "cell_type": "code",
   "execution_count": null,
   "metadata": {},
   "outputs": [],
   "source": [
    "m1, k1, g1 = 1.0, 10.0, 0.5"
   ]
  },
  {
   "cell_type": "code",
   "execution_count": null,
   "metadata": {},
   "outputs": [],
   "source": [
    "m2, k2, g2 = 2.0, 40.0, 0.25"
   ]
  },
  {
   "cell_type": "code",
   "execution_count": null,
   "metadata": {},
   "outputs": [],
   "source": [
    "args = (m1, k1, g1, m2, k2, g2)"
   ]
  },
  {
   "cell_type": "code",
   "execution_count": null,
   "metadata": {},
   "outputs": [],
   "source": [
    "y0 = [1.0, 0, 0.5, 0]"
   ]
  },
  {
   "cell_type": "code",
   "execution_count": null,
   "metadata": {},
   "outputs": [],
   "source": [
    "t = np.linspace(0, 20, 1000)"
   ]
  },
  {
   "cell_type": "code",
   "execution_count": null,
   "metadata": {},
   "outputs": [],
   "source": [
    "r = integrate.ode(f)"
   ]
  },
  {
   "cell_type": "code",
   "execution_count": null,
   "metadata": {},
   "outputs": [],
   "source": [
    "r.set_integrator('lsoda');"
   ]
  },
  {
   "cell_type": "code",
   "execution_count": null,
   "metadata": {},
   "outputs": [],
   "source": [
    "r.set_initial_value(y0, t[0]);"
   ]
  },
  {
   "cell_type": "code",
   "execution_count": null,
   "metadata": {},
   "outputs": [],
   "source": [
    "r.set_f_params(args);"
   ]
  },
  {
   "cell_type": "code",
   "execution_count": null,
   "metadata": {},
   "outputs": [],
   "source": [
    "dt = t[1] - t[0]\n",
    "y = np.zeros((len(t), len(y0)))\n",
    "idx = 0\n",
    "while r.successful() and r.t < t[-1]:\n",
    "    y[idx, :] = r.y\n",
    "    r.integrate(r.t + dt)\n",
    "    idx += 1"
   ]
  },
  {
   "cell_type": "code",
   "execution_count": null,
   "metadata": {},
   "outputs": [],
   "source": [
    "fig = plt.figure(figsize=(10, 4))\n",
    "ax1 = plt.subplot2grid((2, 5), (0, 0), colspan=3)\n",
    "ax2 = plt.subplot2grid((2, 5), (1, 0), colspan=3)\n",
    "ax3 = plt.subplot2grid((2, 5), (0, 3), colspan=2, rowspan=2)\n",
    "\n",
    "ax1.plot(t, y[:, 0], 'r')\n",
    "ax1.set_ylabel('$x_1$', fontsize=18)\n",
    "ax1.set_yticks([-1, -.5, 0, .5, 1])\n",
    "\n",
    "ax2.plot(t, y[:, 2], 'b')\n",
    "ax2.set_xlabel('$t$', fontsize=18)\n",
    "ax2.set_ylabel('$x_2$', fontsize=18)\n",
    "ax2.set_yticks([-1, -.5, 0, .5, 1])\n",
    "\n",
    "ax3.plot(y[:, 0], y[:, 2], 'k')\n",
    "ax3.set_xlabel('$x_1$', fontsize=18)\n",
    "ax3.set_ylabel('$x_2$', fontsize=18)\n",
    "ax3.set_xticks([-1, -.5, 0, .5, 1])\n",
    "ax3.set_yticks([-1, -.5, 0, .5, 1])\n",
    "\n",
    "fig.tight_layout()\n",
    "# fig.savefig('cap9-muelles-acoplados.pdf')"
   ]
  },
  {
   "cell_type": "markdown",
   "metadata": {},
   "source": [
    "#### Realicemos ahora el mismo cálculo anterior, pero especificando también el Jacobiano:"
   ]
  },
  {
   "cell_type": "code",
   "execution_count": null,
   "metadata": {},
   "outputs": [],
   "source": [
    "def jac(t, y, args):\n",
    "    m1, k1, g1, m2, k2, g2 = args\n",
    "    \n",
    "    return [[0, 1, 0, 0], \n",
    "            [- k1/m1 - k2/m1, - g1/m1 * y[1], k2/m1, 0],\n",
    "            [0, 0, 1, 0],\n",
    "            [k2/m2, 0, - k2/m2, - g2/m2]]"
   ]
  },
  {
   "cell_type": "code",
   "execution_count": null,
   "metadata": {},
   "outputs": [],
   "source": [
    "r = integrate.ode(f, jac).set_f_params(args).set_jac_params(args).set_initial_value(y0, t[0])"
   ]
  },
  {
   "cell_type": "code",
   "execution_count": null,
   "metadata": {},
   "outputs": [],
   "source": [
    "dt = t[1] - t[0]\n",
    "y = np.zeros((len(t), len(y0)))\n",
    "idx = 0\n",
    "while r.successful() and r.t < t[-1]:\n",
    "    y[idx, :] = r.y\n",
    "    r.integrate(r.t + dt)\n",
    "    idx += 1"
   ]
  },
  {
   "cell_type": "code",
   "execution_count": null,
   "metadata": {},
   "outputs": [],
   "source": [
    "fig = plt.figure(figsize=(10, 4))\n",
    "ax1 = plt.subplot2grid((2, 5), (0, 0), colspan=3)\n",
    "ax2 = plt.subplot2grid((2, 5), (1, 0), colspan=3)\n",
    "ax3 = plt.subplot2grid((2, 5), (0, 3), colspan=2, rowspan=2)\n",
    "\n",
    "ax1.plot(t, y[:, 0], 'r')\n",
    "ax1.set_ylabel('$x_1$', fontsize=18)\n",
    "ax1.set_yticks([-1, -.5, 0, .5, 1])\n",
    "\n",
    "ax2.plot(t, y[:, 2], 'b')\n",
    "ax2.set_xlabel('$t$', fontsize=18)\n",
    "ax2.set_ylabel('$x_2$', fontsize=18)\n",
    "ax2.set_yticks([-1, -.5, 0, .5, 1])\n",
    "\n",
    "ax3.plot(y[:, 0], y[:, 2], 'k')\n",
    "ax3.set_xlabel('$x_1$', fontsize=18)\n",
    "ax3.set_ylabel('$x_2$', fontsize=18)\n",
    "ax3.set_xticks([-1, -.5, 0, .5, 1])\n",
    "ax3.set_yticks([-1, -.5, 0, .5, 1])\n",
    "\n",
    "fig.tight_layout()"
   ]
  },
  {
   "cell_type": "markdown",
   "metadata": {},
   "source": [
    "### Mismos cálculos, pero usando previamente SymPy para definir el problema para SciPy"
   ]
  },
  {
   "cell_type": "code",
   "execution_count": null,
   "metadata": {},
   "outputs": [],
   "source": [
    "L1 = L2 = 0\n",
    "t = sp.symbols(\"t\")\n",
    "m1, k1, b1 = sp.symbols(\"m_1, k_1, b_1\")\n",
    "m2, k2, b2 = sp.symbols(\"m_2, k_2, b_2\")"
   ]
  },
  {
   "cell_type": "code",
   "execution_count": null,
   "metadata": {},
   "outputs": [],
   "source": [
    "x1 = sp.Function(\"x_1\")\n",
    "x2 = sp.Function(\"x_2\")"
   ]
  },
  {
   "cell_type": "code",
   "execution_count": null,
   "metadata": {},
   "outputs": [],
   "source": [
    "ode1 = sp.Eq(m1 * x1(t).diff(t,t,) + b1 * x1(t).diff(t) + k1*(x1(t)-L1) - k2*(x2(t)-x1(t) - L2),0)"
   ]
  },
  {
   "cell_type": "code",
   "execution_count": null,
   "metadata": {},
   "outputs": [],
   "source": [
    "ode2 = sp.Eq(m2 * x2(t).diff(t,t,) + b2 * x2(t).diff(t) + k2*(x2(t)-x1(t)-L2),0)"
   ]
  },
  {
   "cell_type": "code",
   "execution_count": null,
   "metadata": {},
   "outputs": [],
   "source": [
    "params = {m1: 1.0, k1: 10.0, b1: 0.5,\n",
    "          m2: 2.0, k2: 40.0, b2: 0.25}"
   ]
  },
  {
   "cell_type": "code",
   "execution_count": null,
   "metadata": {},
   "outputs": [],
   "source": [
    "args"
   ]
  },
  {
   "cell_type": "code",
   "execution_count": null,
   "metadata": {},
   "outputs": [],
   "source": [
    "y1 = sp.Function(\"y_1\")\n",
    "y2 = sp.Function(\"y_2\")\n",
    "y3 = sp.Function(\"y_3\")\n",
    "y4 = sp.Function(\"y_4\")"
   ]
  },
  {
   "cell_type": "code",
   "execution_count": null,
   "metadata": {},
   "outputs": [],
   "source": [
    "varchange = {x1(t).diff(t, t): y2(t).diff(t), \n",
    "             x1(t): y1(t),\n",
    "             x2(t).diff(t, t): y4(t).diff(t), \n",
    "             x2(t): y3(t)}"
   ]
  },
  {
   "cell_type": "code",
   "execution_count": null,
   "metadata": {},
   "outputs": [],
   "source": [
    "(ode1.subs(varchange).lhs, ode2.subs(varchange).lhs)"
   ]
  },
  {
   "cell_type": "code",
   "execution_count": null,
   "metadata": {},
   "outputs": [],
   "source": [
    "ode3 = y1(t).diff(t) - y2(t)"
   ]
  },
  {
   "cell_type": "code",
   "execution_count": null,
   "metadata": {},
   "outputs": [],
   "source": [
    "ode4 = y3(t).diff(t) - y4(t)"
   ]
  },
  {
   "cell_type": "code",
   "execution_count": null,
   "metadata": {},
   "outputs": [],
   "source": [
    "vcsol = sp.solve((ode1.subs(varchange), ode2.subs(varchange), ode3, ode4),\n",
    "                    (y1(t).diff(t), y2(t).diff(t), y3(t).diff(t), y4(t).diff(t)))"
   ]
  },
  {
   "cell_type": "code",
   "execution_count": null,
   "metadata": {},
   "outputs": [],
   "source": [
    "vcsol"
   ]
  },
  {
   "cell_type": "code",
   "execution_count": null,
   "metadata": {},
   "outputs": [],
   "source": [
    "ode_rhs = sp.Matrix([y1(t).diff(t), y2(t).diff(t), y3(t).diff(t), y4(t).diff(t)]).subs(vcsol)"
   ]
  },
  {
   "cell_type": "code",
   "execution_count": null,
   "metadata": {},
   "outputs": [],
   "source": [
    "y = sp.Matrix([y1(t), y2(t), y3(t), y4(t)])"
   ]
  },
  {
   "cell_type": "code",
   "execution_count": null,
   "metadata": {},
   "outputs": [],
   "source": [
    "sp.Eq(y.diff(t), ode_rhs)"
   ]
  },
  {
   "cell_type": "code",
   "execution_count": null,
   "metadata": {},
   "outputs": [],
   "source": [
    "f_np = sp.lambdify((t, y), ode_rhs.subs(params), 'numpy')"
   ]
  },
  {
   "cell_type": "code",
   "execution_count": null,
   "metadata": {},
   "outputs": [],
   "source": [
    "y0 = [1.0, 0, 0.5, 0]\n",
    "t = np.linspace(0, 20, 1000)\n",
    "\n",
    "r = integrate.ode(f_np)\n",
    "r.set_integrator('lsoda');\n",
    "r.set_initial_value(y0, t[0]);\n",
    "\n",
    "dt = t[1] - t[0]\n",
    "y = np.zeros((len(t), len(y0)))\n",
    "idx = 0\n",
    "while r.successful() and r.t < t[-1]:\n",
    "    y[idx, :] = r.y\n",
    "    r.integrate(r.t + dt)\n",
    "    idx += 1"
   ]
  },
  {
   "cell_type": "code",
   "execution_count": null,
   "metadata": {},
   "outputs": [],
   "source": [
    "fig = plt.figure(figsize=(10, 4))\n",
    "ax1 = plt.subplot2grid((2, 5), (0, 0), colspan=3)\n",
    "ax2 = plt.subplot2grid((2, 5), (1, 0), colspan=3)\n",
    "ax3 = plt.subplot2grid((2, 5), (0, 3), colspan=2, rowspan=2)\n",
    "\n",
    "ax1.plot(t, y[:, 0], 'r')\n",
    "ax1.set_ylabel('$x_1$', fontsize=18)\n",
    "ax1.set_yticks([-1, -.5, 0, .5, 1])\n",
    "\n",
    "ax2.plot(t, y[:, 2], 'b')\n",
    "ax2.set_xlabel('$t$', fontsize=18)\n",
    "ax2.set_ylabel('$x_2$', fontsize=18)\n",
    "ax2.set_yticks([-1, -.5, 0, .5, 1])\n",
    "\n",
    "ax3.plot(y[:, 0], y[:, 2], 'k')\n",
    "ax3.set_xlabel('$x_1$', fontsize=18)\n",
    "ax3.set_ylabel('$x_2$', fontsize=18)\n",
    "ax3.set_xticks([-1, -.5, 0, .5, 1])\n",
    "ax3.set_yticks([-1, -.5, 0, .5, 1])\n",
    "\n",
    "fig.tight_layout()"
   ]
  },
  {
   "cell_type": "markdown",
   "metadata": {},
   "source": [
    "## Doble péndulo"
   ]
  },
  {
   "cell_type": "markdown",
   "metadata": {},
   "source": [
    "http://scienceworld.wolfram.com/physics/DoublePendulum.html"
   ]
  },
  {
   "cell_type": "markdown",
   "metadata": {},
   "source": [
    "$$\n",
    "(m_1+m_2) l_1\\theta_1'' + m_2l_2\\theta_2''\\cos(\\theta_1-\\theta_2)\n",
    "+ m_2l_2(\\theta_2')^2\\sin(\\theta_1-\\theta_2)+g(m_1+m_2)\\sin(\\theta_1) = 0\n",
    "$$\n",
    "\n",
    "$$\n",
    "m_2l_2\\theta_2'' + m_2l_1\\theta_1''\\cos(\\theta_1-\\theta_2) - m_2l_1 (\\theta_1')^2 \\sin(\\theta_1-\\theta_2)\n",
    "+m_2g\\sin(\\theta_2) = 0\n",
    "$$"
   ]
  },
  {
   "cell_type": "code",
   "execution_count": null,
   "metadata": {},
   "outputs": [],
   "source": [
    "t, g, m1, l1, m2, l2 = sp.symbols(\"t, g, m_1, l_1, m_2, l_2\")"
   ]
  },
  {
   "cell_type": "code",
   "execution_count": null,
   "metadata": {},
   "outputs": [],
   "source": [
    "theta1, theta2 = sp.symbols(\"theta_1, theta_2\", cls=sp.Function)"
   ]
  },
  {
   "cell_type": "code",
   "execution_count": null,
   "metadata": {},
   "outputs": [],
   "source": [
    "ode1 = sp.Eq((m1+m2)*l1 * theta1(t).diff(t,t) +\n",
    "                m2*l2 * theta2(t).diff(t,t) +\n",
    "                m2*l2 * theta2(t).diff(t)**2 * sp.sin(theta1(t)-theta2(t)) + \n",
    "                g*(m1+m2) * sp.sin(theta1(t)),0)\n",
    "ode1"
   ]
  },
  {
   "cell_type": "code",
   "execution_count": null,
   "metadata": {},
   "outputs": [],
   "source": [
    "ode2 = sp.Eq(m2*l2 * theta2(t).diff(t,t) +\n",
    "                m2*l1 * theta1(t).diff(t,t) * sp.cos(theta1(t)-theta2(t)) -\n",
    "                m2*l1 * theta1(t).diff(t)**2 * sp.sin(theta1(t) - theta2(t)) +\n",
    "                m2*g * sp.sin(theta2(t)),0)\n",
    "ode2"
   ]
  },
  {
   "cell_type": "code",
   "execution_count": null,
   "metadata": {},
   "outputs": [],
   "source": [
    "# Esto resultará infructuoso, ya que Sympy no puede resolver simbólicamente estas EDOs\n",
    "try:\n",
    "    sp.dsolve(ode1, ode2)\n",
    "except Exception as e:\n",
    "    print(e)"
   ]
  },
  {
   "cell_type": "code",
   "execution_count": null,
   "metadata": {},
   "outputs": [],
   "source": [
    "y1, y2, y3, y4 = sp.symbols(\"y_1, y_2, y_3, y_4\", cls=sp.Function)"
   ]
  },
  {
   "cell_type": "code",
   "execution_count": null,
   "metadata": {},
   "outputs": [],
   "source": [
    "varchange = {theta1(t).diff(t, t): y2(t).diff(t), \n",
    "             theta1(t): y1(t),\n",
    "             theta2(t).diff(t, t): y4(t).diff(t), \n",
    "             theta2(t): y3(t)}"
   ]
  },
  {
   "cell_type": "code",
   "execution_count": null,
   "metadata": {},
   "outputs": [],
   "source": [
    "ode1_vc = ode1.subs(varchange)"
   ]
  },
  {
   "cell_type": "code",
   "execution_count": null,
   "metadata": {},
   "outputs": [],
   "source": [
    "ode2_vc = ode2.subs(varchange)"
   ]
  },
  {
   "cell_type": "code",
   "execution_count": null,
   "metadata": {},
   "outputs": [],
   "source": [
    "ode3 = y1(t).diff(t) - y2(t)"
   ]
  },
  {
   "cell_type": "code",
   "execution_count": null,
   "metadata": {},
   "outputs": [],
   "source": [
    "ode4 = y3(t).diff(t) - y4(t)"
   ]
  },
  {
   "cell_type": "code",
   "execution_count": null,
   "metadata": {},
   "outputs": [],
   "source": [
    "y = sp.Matrix([y1(t), y2(t), y3(t), y4(t)])"
   ]
  },
  {
   "cell_type": "code",
   "execution_count": null,
   "metadata": {},
   "outputs": [],
   "source": [
    "vcsol = sp.solve((ode1_vc, ode2_vc, ode3, ode4), y.diff(t), dict=True)"
   ]
  },
  {
   "cell_type": "code",
   "execution_count": null,
   "metadata": {},
   "outputs": [],
   "source": [
    "f = y.diff(t).subs(vcsol[0])"
   ]
  },
  {
   "cell_type": "code",
   "execution_count": null,
   "metadata": {},
   "outputs": [],
   "source": [
    "sp.Eq(y.diff(t), f)"
   ]
  },
  {
   "cell_type": "code",
   "execution_count": null,
   "metadata": {},
   "outputs": [],
   "source": [
    "params = {m1: 5.0, l1: 2.0,\n",
    "          m2: 1.0, l2: 1.0, g: 10.0}"
   ]
  },
  {
   "cell_type": "code",
   "execution_count": null,
   "metadata": {},
   "outputs": [],
   "source": [
    "f_np = sp.lambdify((t, y), f.subs(params), 'numpy')"
   ]
  },
  {
   "cell_type": "code",
   "execution_count": null,
   "metadata": {},
   "outputs": [],
   "source": [
    "jac = sp.Matrix([[fj.diff(yi) for yi in y] for fj in f])"
   ]
  },
  {
   "cell_type": "code",
   "execution_count": null,
   "metadata": {},
   "outputs": [],
   "source": [
    "jac_np = sp.lambdify((t, y), jac.subs(params), 'numpy')"
   ]
  },
  {
   "cell_type": "code",
   "execution_count": null,
   "metadata": {},
   "outputs": [],
   "source": [
    "y0 = [2.0, 0, 0.0, 0]"
   ]
  },
  {
   "cell_type": "code",
   "execution_count": null,
   "metadata": {},
   "outputs": [],
   "source": [
    "t = np.linspace(0, 20, 1000)"
   ]
  },
  {
   "cell_type": "code",
   "execution_count": null,
   "metadata": {},
   "outputs": [],
   "source": [
    "jac_np(0, y0)"
   ]
  },
  {
   "cell_type": "code",
   "execution_count": null,
   "metadata": {},
   "outputs": [],
   "source": [
    "r = integrate.ode(f_np, jac_np).set_initial_value(y0, t[0]);\n",
    " \n",
    "dt = t[1] - t[0]\n",
    "y = np.zeros((len(t), len(y0)))\n",
    "idx = 0\n",
    "while r.successful() and r.t < t[-1]:\n",
    "    y[idx, :] = r.y\n",
    "    r.integrate(r.t + dt)\n",
    "    idx += 1"
   ]
  },
  {
   "cell_type": "code",
   "execution_count": null,
   "metadata": {},
   "outputs": [],
   "source": [
    "fig = plt.figure(figsize=(10, 4))\n",
    "ax1 = plt.subplot2grid((2, 5), (0, 0), colspan=3)\n",
    "ax2 = plt.subplot2grid((2, 5), (1, 0), colspan=3)\n",
    "ax3 = plt.subplot2grid((2, 5), (0, 3), colspan=2, rowspan=2)\n",
    "\n",
    "ax1.plot(t, y[:, 0], 'r')\n",
    "ax1.set_ylabel(r'$\\theta_1$', fontsize=18)\n",
    "\n",
    "ax2.plot(t, y[:, 2], 'b')\n",
    "ax2.set_xlabel('$t$', fontsize=18)\n",
    "ax2.set_ylabel(r'$\\theta_2$', fontsize=18)\n",
    "\n",
    "ax3.plot(y[:, 0], y[:, 2], 'k')\n",
    "ax3.set_xlabel(r'$\\theta_1$', fontsize=18)\n",
    "ax3.set_ylabel(r'$\\theta_2$', fontsize=18)\n",
    "\n",
    "fig.tight_layout()"
   ]
  },
  {
   "cell_type": "code",
   "execution_count": null,
   "metadata": {},
   "outputs": [],
   "source": [
    "theta1_np, theta2_np = y[:, 0], y[:, 2]"
   ]
  },
  {
   "cell_type": "code",
   "execution_count": null,
   "metadata": {},
   "outputs": [],
   "source": [
    "x1 = params[l1] * np.sin(theta1_np)\n",
    "y1 = -params[l1] * np.cos(theta1_np)\n",
    "x2 = x1 + params[l2] * np.sin(theta2_np)\n",
    "y2 = y1 - params[l2] * np.cos(theta2_np)"
   ]
  },
  {
   "cell_type": "code",
   "execution_count": null,
   "metadata": {},
   "outputs": [],
   "source": [
    "fig = plt.figure(figsize=(10, 4))\n",
    "ax1 = plt.subplot2grid((2, 5), (0, 0), colspan=3)\n",
    "ax2 = plt.subplot2grid((2, 5), (1, 0), colspan=3)\n",
    "ax3 = plt.subplot2grid((2, 5), (0, 3), colspan=2, rowspan=2)\n",
    "\n",
    "ax1.plot(t, x1, 'r')\n",
    "ax1.plot(t, y1, 'b')\n",
    "ax1.set_ylabel('$x_1, y_1$', fontsize=18)\n",
    "ax1.set_yticks([-3, 0, 3])\n",
    "\n",
    "ax2.plot(t, x2, 'r')\n",
    "ax2.plot(t, y2, 'b')\n",
    "ax2.set_xlabel('$t$', fontsize=18)\n",
    "ax2.set_ylabel('$x_2, y_2$', fontsize=18)\n",
    "ax2.set_yticks([-3, 0, 3])\n",
    "\n",
    "ax3.plot(x1, y1, 'r')\n",
    "ax3.plot(x2, y2, 'b', lw=0.5)\n",
    "ax3.set_xlabel('$x$', fontsize=18)\n",
    "ax3.set_ylabel('$y$', fontsize=18)\n",
    "ax3.set_xticks([-3, 0, 3])\n",
    "ax3.set_yticks([-3, 0, 3])\n",
    "\n",
    "fig.tight_layout()\n",
    "# fig.savefig('ch9-double-pendulum.pdf')"
   ]
  },
  {
   "cell_type": "markdown",
   "metadata": {},
   "source": [
    "## Versiones"
   ]
  },
  {
   "cell_type": "code",
   "execution_count": null,
   "metadata": {},
   "outputs": [],
   "source": [
    "%reload_ext version_information"
   ]
  },
  {
   "cell_type": "code",
   "execution_count": null,
   "metadata": {},
   "outputs": [],
   "source": [
    "%version_information numpy, scipy, sympy, matplotlib"
   ]
  }
 ],
 "metadata": {
  "kernelspec": {
   "display_name": "Python 3",
   "language": "python",
   "name": "python3"
  },
  "language_info": {
   "codemirror_mode": {
    "name": "ipython",
    "version": 3
   },
   "file_extension": ".py",
   "mimetype": "text/x-python",
   "name": "python",
   "nbconvert_exporter": "python",
   "pygments_lexer": "ipython3",
   "version": "3.8.8"
  }
 },
 "nbformat": 4,
 "nbformat_minor": 1
}
