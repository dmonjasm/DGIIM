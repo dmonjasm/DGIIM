{
 "cells": [
  {
   "cell_type": "code",
   "execution_count": 1,
   "id": "4710c301",
   "metadata": {},
   "outputs": [],
   "source": [
    "import sympy as sp\n",
    "import numpy as np"
   ]
  },
  {
   "cell_type": "code",
   "execution_count": 3,
   "id": "b48a9b86",
   "metadata": {},
   "outputs": [],
   "source": [
    "t, y0, z = sp.symbols('t, y_0,  z')\n",
    "\n",
    "def f(t,z):\n",
    "    return (t-z)/2"
   ]
  },
  {
   "cell_type": "code",
   "execution_count": 4,
   "id": "b6ab8e30",
   "metadata": {},
   "outputs": [],
   "source": [
    "a = 0; b = 1;   # extremos inferior y superior del intervalo \n",
    "ya = 1          # condición inicial del PVI"
   ]
  },
  {
   "cell_type": "code",
   "execution_count": 5,
   "id": "1221fed8",
   "metadata": {},
   "outputs": [
    {
     "data": {
      "text/latex": [
       "$\\displaystyle \\left(\\left(t - 2\\right) e^{\\frac{t}{2}} + 3\\right) e^{- \\frac{t}{2}}$"
      ],
      "text/plain": [
       "((t - 2)*exp(t/2) + 3)*exp(-t/2)"
      ]
     },
     "execution_count": 5,
     "metadata": {},
     "output_type": "execute_result"
    }
   ],
   "source": [
    "# Vamos a empezar definiendo la Ec. Dif. Ordinaria (edo) a resolver\n",
    "y = sp.Function('y')\n",
    "edo = y(t).diff(t)-f(t,y(t))\n",
    "\n",
    "# y la resolvemos simbólicamente mediante la orden dsolve de SymPy\n",
    "edo_sol = sp.dsolve(edo)\n",
    "edo_sol\n",
    "\n",
    "\n",
    "# Veámos ahora cómo imponer las condiciones iniciales a través\n",
    "ics = {y(0): y0}  #  de una entrada de diccionario\n",
    "# esta sería finalmente la ecuación asociada a la imposición de la condición inicial del PVI\n",
    "CI_eq = sp.Eq(edo_sol.lhs.subs(t, 0).subs(ics),edo_sol.rhs.subs(t, 0))\n",
    "\n",
    "CI_sol = sp.solve(CI_eq) # que resolvemos mediante la orden solve y extraemos la única solución de ésta\n",
    "\n",
    "# así como la obtención de las constantes de integración en función de las condiciones iniciales\n",
    "edo_sol.subs(CI_sol[0]) \n",
    "\n",
    "sol_exacta = edo_sol.rhs.subs(CI_sol[0]).subs({y0:ya})\n",
    "sol_exacta"
   ]
  },
  {
   "cell_type": "code",
   "execution_count": 6,
   "id": "6f91481d",
   "metadata": {},
   "outputs": [],
   "source": [
    "import eulermejorado\n",
    "import eulermodificado"
   ]
  },
  {
   "cell_type": "code",
   "execution_count": 7,
   "id": "a49059d7",
   "metadata": {},
   "outputs": [
    {
     "name": "stdout",
     "output_type": "stream",
     "text": [
      "Valores aproximados por Euler Mejorado (Punto Medio) con tamaño de paso h=0.1-------------------------\n",
      "[1.         0.95375    0.91462969 0.88229149 0.85640478 0.83665505\n",
      " 0.82274311 0.81438439 0.81130815 0.81325688 0.8199856 ]\n",
      "\n",
      "Valores aproximados por Euler Modificado (Heun) con tamaño de paso h=0.1----------------------------\n",
      "[1.         0.95375    0.91462969 0.88229149 0.85640478 0.83665505\n",
      " 0.82274311 0.81438439 0.81130815 0.81325688 0.8199856 ]\n",
      "\n",
      "Soluciones exactas----------------------------------------------------------------------------------\n",
      "[1.00000000000000 0.953688273502142 0.914512254107879 0.882123929275174\n",
      " 0.856192259233945 0.836402349214215 0.822454662045154 0.814064269156140\n",
      " 0.810960138106918 0.812884454865320 0.819591979137900]\n",
      "\n",
      "Error máximo en valor absoluto de Euler Mejorado----------------------------------------------------\n",
      "0.000393623839967439\n",
      "\n",
      "Error máximo en valor absoluto de Euler Modificado--------------------------------------------------\n",
      "0.000393623839967328\n"
     ]
    },
    {
     "ename": "NameError",
     "evalue": "name 'yEulerexpl' is not defined",
     "output_type": "error",
     "traceback": [
      "\u001b[0;31m---------------------------------------------------------------------------\u001b[0m",
      "\u001b[0;31mNameError\u001b[0m                                 Traceback (most recent call last)",
      "\u001b[0;32m<ipython-input-7-f4714e5b6228>\u001b[0m in \u001b[0;36m<module>\u001b[0;34m\u001b[0m\n\u001b[1;32m     25\u001b[0m \u001b[0;31m# que justo a continuación podremos dibujar y comparar con la sol. exacta\u001b[0m\u001b[0;34m\u001b[0m\u001b[0;34m\u001b[0m\u001b[0;34m\u001b[0m\u001b[0m\n\u001b[1;32m     26\u001b[0m \u001b[0mfig\u001b[0m\u001b[0;34m,\u001b[0m \u001b[0max\u001b[0m \u001b[0;34m=\u001b[0m \u001b[0mplt\u001b[0m\u001b[0;34m.\u001b[0m\u001b[0msubplots\u001b[0m\u001b[0;34m(\u001b[0m\u001b[0mfigsize\u001b[0m\u001b[0;34m=\u001b[0m\u001b[0;34m(\u001b[0m\u001b[0;36m8\u001b[0m\u001b[0;34m,\u001b[0m \u001b[0;36m4\u001b[0m\u001b[0;34m)\u001b[0m\u001b[0;34m)\u001b[0m\u001b[0;34m\u001b[0m\u001b[0;34m\u001b[0m\u001b[0m\n\u001b[0;32m---> 27\u001b[0;31m \u001b[0max\u001b[0m\u001b[0;34m.\u001b[0m\u001b[0mplot\u001b[0m\u001b[0;34m(\u001b[0m\u001b[0mxx\u001b[0m\u001b[0;34m,\u001b[0m\u001b[0myEulerexpl\u001b[0m\u001b[0;34m,\u001b[0m \u001b[0;34m'bo'\u001b[0m\u001b[0;34m,\u001b[0m\u001b[0mlabel\u001b[0m \u001b[0;34m=\u001b[0m \u001b[0;34m\"aprox. mét. Euler explícito\"\u001b[0m\u001b[0;34m)\u001b[0m\u001b[0;34m\u001b[0m\u001b[0;34m\u001b[0m\u001b[0m\n\u001b[0m\u001b[1;32m     28\u001b[0m \u001b[0max\u001b[0m\u001b[0;34m.\u001b[0m\u001b[0mplot\u001b[0m\u001b[0;34m(\u001b[0m\u001b[0mxx\u001b[0m\u001b[0;34m,\u001b[0m\u001b[0myEulerimpl\u001b[0m\u001b[0;34m,\u001b[0m \u001b[0;34m'ro'\u001b[0m\u001b[0;34m,\u001b[0m\u001b[0mlabel\u001b[0m \u001b[0;34m=\u001b[0m \u001b[0;34m\"aprox. mét. Euler Modificado\"\u001b[0m\u001b[0;34m)\u001b[0m\u001b[0;34m\u001b[0m\u001b[0;34m\u001b[0m\u001b[0m\n\u001b[1;32m     29\u001b[0m \u001b[0max\u001b[0m\u001b[0;34m.\u001b[0m\u001b[0mplot\u001b[0m\u001b[0;34m(\u001b[0m\u001b[0mxx\u001b[0m\u001b[0;34m,\u001b[0m \u001b[0my_x\u001b[0m\u001b[0;34m(\u001b[0m\u001b[0mxx\u001b[0m\u001b[0;34m)\u001b[0m\u001b[0;34m,\u001b[0m \u001b[0mlabel\u001b[0m\u001b[0;34m=\u001b[0m\u001b[0;34m\"sol. exacta\"\u001b[0m\u001b[0;34m)\u001b[0m\u001b[0;34m\u001b[0m\u001b[0;34m\u001b[0m\u001b[0m\n",
      "\u001b[0;31mNameError\u001b[0m: name 'yEulerexpl' is not defined"
     ]
    },
    {
     "data": {
      "image/png": "[encoded data removed]",
      "text/plain": [
       "<Figure size 576x288 with 1 Axes>"
      ]
     },
     "metadata": {
      "image/png": {
       "height": 251,
       "width": 486
      },
      "needs_background": "light"
     },
     "output_type": "display_data"
    }
   ],
   "source": [
    "N=10\n",
    "\n",
    "#F,x0,y0,xfinal,N\n",
    "\n",
    "\n",
    "xx, yEulerMejorado=eulermejorado.integrate(f,a,ya,b,N)\n",
    "xx, yEulerModificado=eulermodificado.integrate(f,a,ya,b,N)\n",
    "valores_exactos = np.array([sol_exacta.subs({t:xx[n]}) for n in range(len(xx))])\n",
    "\n",
    "print(\"Valores aproximados por Euler Mejorado (Punto Medio) con tamaño de paso h=0.1-------------------------\")\n",
    "print(yEulerMejorado)\n",
    "print(\"\\nValores aproximados por Euler Modificado (Heun) con tamaño de paso h=0.1----------------------------\")\n",
    "print(yEulerModificado)\n",
    "print(\"\\nSoluciones exactas----------------------------------------------------------------------------------\")\n",
    "print(valores_exactos)\n",
    "\n",
    "print(\"\\nError máximo en valor absoluto de Euler Mejorado----------------------------------------------------\")\n",
    "print(abs(valores_exactos-yEulerMejorado).max())\n",
    "print(\"\\nError máximo en valor absoluto de Euler Modificado--------------------------------------------------\")\n",
    "print(abs(valores_exactos-yEulerModificado).max())"
   ]
  },
  {
   "cell_type": "code",
   "execution_count": null,
   "id": "ac513954",
   "metadata": {},
   "outputs": [],
   "source": [
    "import RK_general\n",
    "\n",
    "butcher=[[0,0],[2/3,0]]\n",
    "coef=[1/4,3/4]\n",
    "\n",
    "xx, yRK = RK_general.integrate(f,a,ya,b,N,butcher,coef)\n",
    "print(\"\\nValores aproximados por Runge-Kutta dos evaluaciones con tamaño de paso h=0.1-------------------------\")\n",
    "print(yRK)\n",
    "print(\"\\nError máximo en valor absoluto Runge-Kutta dos evaluaciones-------------------------------------------\")\n",
    "print(abs(valores_exactos-yRK).max())\n"
   ]
  },
  {
   "cell_type": "markdown",
   "id": "2badb8d8",
   "metadata": {},
   "source": [
    "Se observa que Euler Mejorado y Runge-Kutta para 2 evaluaciones obtienen el mismo error, mientras que el error de Euler Modificado difiere en el decimal 16, siendo este un poco menor que en los otros dos casos, luego se concluye que el método de Euler Modificado es un poco mejor."
   ]
  }
 ],
 "metadata": {
  "kernelspec": {
   "display_name": "Python 3",
   "language": "python",
   "name": "python3"
  },
  "language_info": {
   "codemirror_mode": {
    "name": "ipython",
    "version": 3
   },
   "file_extension": ".py",
   "mimetype": "text/x-python",
   "name": "python",
   "nbconvert_exporter": "python",
   "pygments_lexer": "ipython3",
   "version": "3.8.8"
  }
 },
 "nbformat": 4,
 "nbformat_minor": 5
}
